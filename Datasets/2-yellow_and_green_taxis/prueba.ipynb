{
 "cells": [
  {
   "cell_type": "code",
   "execution_count": 12,
   "metadata": {},
   "outputs": [
    {
     "data": {
      "text/plain": [
       "{'Probabilidad de conseguir pasajero': [78.25335693359375]}"
      ]
     },
     "execution_count": 12,
     "metadata": {},
     "output_type": "execute_result"
    }
   ],
   "source": [
    "import pandas as pd\n",
    "from datetime import timedelta\n",
    "from pydantic import BaseModel\n",
    "import joblib\n",
    "\n",
    "\n",
    "# Cargamos el modelo entrenado desde el archivo pickle\n",
    "xgb_model = joblib.load('xgb_model.pkl')\n",
    "\n",
    "class InputData(BaseModel):\n",
    "    pBoroughID: int\n",
    "    dayofweek: int\n",
    "    hour: int\n",
    "\n",
    "\n",
    "def predict(data: InputData):\n",
    "\n",
    "    # Convertir los datos de entrada a un DataFrame\n",
    "    input_data = pd.DataFrame([data.model_dump()])\n",
    "\n",
    "    # Realizar la predicción\n",
    "    prediction = xgb_model.predict(input_data)\n",
    "\n",
    "    # Devolver la predicción como JSON\n",
    "    return {\"Probabilidad de conseguir pasajero\": prediction.tolist()}\n",
    "\n",
    "input_data = InputData(pBoroughID=1, dayofweek=3, hour=20)\n",
    "predict(input_data)"
   ]
  },
  {
   "cell_type": "code",
   "execution_count": null,
   "metadata": {},
   "outputs": [],
   "source": []
  }
 ],
 "metadata": {
  "kernelspec": {
   "display_name": "Python 3",
   "language": "python",
   "name": "python3"
  },
  "language_info": {
   "codemirror_mode": {
    "name": "ipython",
    "version": 3
   },
   "file_extension": ".py",
   "mimetype": "text/x-python",
   "name": "python",
   "nbconvert_exporter": "python",
   "pygments_lexer": "ipython3",
   "version": "3.11.6"
  }
 },
 "nbformat": 4,
 "nbformat_minor": 2
}
