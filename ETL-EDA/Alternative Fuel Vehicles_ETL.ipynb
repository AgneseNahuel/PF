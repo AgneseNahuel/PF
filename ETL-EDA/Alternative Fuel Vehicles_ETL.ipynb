{
 "cells": [
  {
   "cell_type": "code",
   "execution_count": 1,
   "metadata": {},
   "outputs": [],
   "source": [
    "import pandas as pd\n",
    "import matplotlib.pyplot as plt\n",
    "import seaborn as sns\n",
    "import re"
   ]
  },
  {
   "cell_type": "code",
   "execution_count": 2,
   "metadata": {},
   "outputs": [
    {
     "data": {
      "text/html": [
       "<div>\n",
       "<style scoped>\n",
       "    .dataframe tbody tr th:only-of-type {\n",
       "        vertical-align: middle;\n",
       "    }\n",
       "\n",
       "    .dataframe tbody tr th {\n",
       "        vertical-align: top;\n",
       "    }\n",
       "\n",
       "    .dataframe thead th {\n",
       "        text-align: right;\n",
       "    }\n",
       "</style>\n",
       "<table border=\"1\" class=\"dataframe\">\n",
       "  <thead>\n",
       "    <tr style=\"text-align: right;\">\n",
       "      <th></th>\n",
       "      <th>Category</th>\n",
       "      <th>Model</th>\n",
       "      <th>Model Year</th>\n",
       "      <th>Manufacturer</th>\n",
       "      <th>Fuel</th>\n",
       "      <th>All-Electric Range</th>\n",
       "      <th>PHEV Total Range</th>\n",
       "      <th>Alternative Fuel Economy City</th>\n",
       "      <th>Alternative Fuel Economy Highway</th>\n",
       "      <th>Alternative Fuel Economy Combined</th>\n",
       "      <th>...</th>\n",
       "      <th>Conventional Fuel Economy Combined</th>\n",
       "      <th>Transmission Type</th>\n",
       "      <th>Transmission Make</th>\n",
       "      <th>Engine Type</th>\n",
       "      <th>Engine Size</th>\n",
       "      <th>Engine Cylinder Count</th>\n",
       "      <th>Number of Passengers</th>\n",
       "      <th>Heavy-Duty Power System</th>\n",
       "      <th>Notes</th>\n",
       "      <th>Drivetrain</th>\n",
       "    </tr>\n",
       "  </thead>\n",
       "  <tbody>\n",
       "    <tr>\n",
       "      <th>0</th>\n",
       "      <td>Sedan/Wagon</td>\n",
       "      <td>NSX</td>\n",
       "      <td>2022.0</td>\n",
       "      <td>Acura</td>\n",
       "      <td>Hybrid Electric</td>\n",
       "      <td>NaN</td>\n",
       "      <td>NaN</td>\n",
       "      <td>NaN</td>\n",
       "      <td>NaN</td>\n",
       "      <td>NaN</td>\n",
       "      <td>...</td>\n",
       "      <td>21.0</td>\n",
       "      <td>Auto</td>\n",
       "      <td>NaN</td>\n",
       "      <td>SI</td>\n",
       "      <td>3.5L</td>\n",
       "      <td>6.0</td>\n",
       "      <td>NaN</td>\n",
       "      <td>NaN</td>\n",
       "      <td>NaN</td>\n",
       "      <td>AWD</td>\n",
       "    </tr>\n",
       "    <tr>\n",
       "      <th>1</th>\n",
       "      <td>Sedan/Wagon</td>\n",
       "      <td>A3</td>\n",
       "      <td>2022.0</td>\n",
       "      <td>Audi</td>\n",
       "      <td>Hybrid Electric</td>\n",
       "      <td>NaN</td>\n",
       "      <td>NaN</td>\n",
       "      <td>NaN</td>\n",
       "      <td>NaN</td>\n",
       "      <td>NaN</td>\n",
       "      <td>...</td>\n",
       "      <td>32.0</td>\n",
       "      <td>Auto</td>\n",
       "      <td>NaN</td>\n",
       "      <td>SI</td>\n",
       "      <td>2.0L</td>\n",
       "      <td>4.0</td>\n",
       "      <td>NaN</td>\n",
       "      <td>NaN</td>\n",
       "      <td>NaN</td>\n",
       "      <td>FWD</td>\n",
       "    </tr>\n",
       "    <tr>\n",
       "      <th>2</th>\n",
       "      <td>Sedan/Wagon</td>\n",
       "      <td>A3 quattro</td>\n",
       "      <td>2022.0</td>\n",
       "      <td>Audi</td>\n",
       "      <td>Hybrid Electric</td>\n",
       "      <td>NaN</td>\n",
       "      <td>NaN</td>\n",
       "      <td>NaN</td>\n",
       "      <td>NaN</td>\n",
       "      <td>NaN</td>\n",
       "      <td>...</td>\n",
       "      <td>31.0</td>\n",
       "      <td>Auto</td>\n",
       "      <td>NaN</td>\n",
       "      <td>SI</td>\n",
       "      <td>2.0L</td>\n",
       "      <td>4.0</td>\n",
       "      <td>NaN</td>\n",
       "      <td>NaN</td>\n",
       "      <td>NaN</td>\n",
       "      <td>AWD</td>\n",
       "    </tr>\n",
       "    <tr>\n",
       "      <th>3</th>\n",
       "      <td>Sedan/Wagon</td>\n",
       "      <td>A4 allroad quattro</td>\n",
       "      <td>2022.0</td>\n",
       "      <td>Audi</td>\n",
       "      <td>Hybrid Electric</td>\n",
       "      <td>NaN</td>\n",
       "      <td>NaN</td>\n",
       "      <td>NaN</td>\n",
       "      <td>NaN</td>\n",
       "      <td>NaN</td>\n",
       "      <td>...</td>\n",
       "      <td>26.0</td>\n",
       "      <td>Auto</td>\n",
       "      <td>NaN</td>\n",
       "      <td>SI</td>\n",
       "      <td>2.0L</td>\n",
       "      <td>4.0</td>\n",
       "      <td>NaN</td>\n",
       "      <td>NaN</td>\n",
       "      <td>NaN</td>\n",
       "      <td>AWD</td>\n",
       "    </tr>\n",
       "    <tr>\n",
       "      <th>4</th>\n",
       "      <td>Sedan/Wagon</td>\n",
       "      <td>A4 quattro</td>\n",
       "      <td>2022.0</td>\n",
       "      <td>Audi</td>\n",
       "      <td>Hybrid Electric</td>\n",
       "      <td>NaN</td>\n",
       "      <td>NaN</td>\n",
       "      <td>NaN</td>\n",
       "      <td>NaN</td>\n",
       "      <td>NaN</td>\n",
       "      <td>...</td>\n",
       "      <td>29.0</td>\n",
       "      <td>Auto</td>\n",
       "      <td>NaN</td>\n",
       "      <td>SI</td>\n",
       "      <td>2.0L</td>\n",
       "      <td>4.0</td>\n",
       "      <td>NaN</td>\n",
       "      <td>NaN</td>\n",
       "      <td>NaN</td>\n",
       "      <td>AWD</td>\n",
       "    </tr>\n",
       "  </tbody>\n",
       "</table>\n",
       "<p>5 rows × 22 columns</p>\n",
       "</div>"
      ],
      "text/plain": [
       "      Category               Model  Model Year Manufacturer             Fuel  \\\n",
       "0  Sedan/Wagon                 NSX      2022.0        Acura  Hybrid Electric   \n",
       "1  Sedan/Wagon                 A3       2022.0         Audi  Hybrid Electric   \n",
       "2  Sedan/Wagon          A3 quattro      2022.0         Audi  Hybrid Electric   \n",
       "3  Sedan/Wagon  A4 allroad quattro      2022.0         Audi  Hybrid Electric   \n",
       "4  Sedan/Wagon          A4 quattro      2022.0         Audi  Hybrid Electric   \n",
       "\n",
       "   All-Electric Range  PHEV Total Range  Alternative Fuel Economy City  \\\n",
       "0                 NaN               NaN                            NaN   \n",
       "1                 NaN               NaN                            NaN   \n",
       "2                 NaN               NaN                            NaN   \n",
       "3                 NaN               NaN                            NaN   \n",
       "4                 NaN               NaN                            NaN   \n",
       "\n",
       "   Alternative Fuel Economy Highway  Alternative Fuel Economy Combined  ...  \\\n",
       "0                               NaN                                NaN  ...   \n",
       "1                               NaN                                NaN  ...   \n",
       "2                               NaN                                NaN  ...   \n",
       "3                               NaN                                NaN  ...   \n",
       "4                               NaN                                NaN  ...   \n",
       "\n",
       "   Conventional Fuel Economy Combined  Transmission Type  Transmission Make  \\\n",
       "0                                21.0               Auto                NaN   \n",
       "1                                32.0               Auto                NaN   \n",
       "2                                31.0               Auto                NaN   \n",
       "3                                26.0               Auto                NaN   \n",
       "4                                29.0               Auto                NaN   \n",
       "\n",
       "  Engine Type Engine Size Engine Cylinder Count Number of Passengers  \\\n",
       "0          SI        3.5L                   6.0                  NaN   \n",
       "1          SI        2.0L                   4.0                  NaN   \n",
       "2          SI        2.0L                   4.0                  NaN   \n",
       "3          SI        2.0L                   4.0                  NaN   \n",
       "4          SI        2.0L                   4.0                  NaN   \n",
       "\n",
       "   Heavy-Duty Power System Notes Drivetrain  \n",
       "0                      NaN   NaN        AWD  \n",
       "1                      NaN   NaN        FWD  \n",
       "2                      NaN   NaN        AWD  \n",
       "3                      NaN   NaN        AWD  \n",
       "4                      NaN   NaN        AWD  \n",
       "\n",
       "[5 rows x 22 columns]"
      ]
     },
     "execution_count": 2,
     "metadata": {},
     "output_type": "execute_result"
    }
   ],
   "source": [
    "ruta_archivo = \"Datasets/Alternative Fuel Vehicles US.csv\"\n",
    "df = pd.read_csv(ruta_archivo)\n",
    "\n",
    "df.head()"
   ]
  },
  {
   "cell_type": "code",
   "execution_count": 3,
   "metadata": {},
   "outputs": [
    {
     "name": "stdout",
     "output_type": "stream",
     "text": [
      "<class 'pandas.core.frame.DataFrame'>\n",
      "RangeIndex: 882 entries, 0 to 881\n",
      "Data columns (total 22 columns):\n",
      " #   Column                              Non-Null Count  Dtype  \n",
      "---  ------                              --------------  -----  \n",
      " 0   Category                            882 non-null    object \n",
      " 1   Model                               882 non-null    object \n",
      " 2   Model Year                          594 non-null    float64\n",
      " 3   Manufacturer                        882 non-null    object \n",
      " 4   Fuel                                882 non-null    object \n",
      " 5   All-Electric Range                  222 non-null    float64\n",
      " 6   PHEV Total Range                    43 non-null     float64\n",
      " 7   Alternative Fuel Economy City       169 non-null    float64\n",
      " 8   Alternative Fuel Economy Highway    169 non-null    float64\n",
      " 9   Alternative Fuel Economy Combined   262 non-null    float64\n",
      " 10  Conventional Fuel Economy City      444 non-null    float64\n",
      " 11  Conventional Fuel Economy Highway   444 non-null    float64\n",
      " 12  Conventional Fuel Economy Combined  444 non-null    float64\n",
      " 13  Transmission Type                   640 non-null    object \n",
      " 14  Transmission Make                   125 non-null    object \n",
      " 15  Engine Type                         589 non-null    object \n",
      " 16  Engine Size                         589 non-null    object \n",
      " 17  Engine Cylinder Count               449 non-null    float64\n",
      " 18  Number of Passengers                121 non-null    object \n",
      " 19  Heavy-Duty Power System             245 non-null    object \n",
      " 20  Notes                               179 non-null    object \n",
      " 21  Drivetrain                          329 non-null    object \n",
      "dtypes: float64(10), object(12)\n",
      "memory usage: 151.7+ KB\n"
     ]
    }
   ],
   "source": [
    "df.info()"
   ]
  },
  {
   "cell_type": "markdown",
   "metadata": {},
   "source": [
    "## I Eliminar columnas que no vamos a utilizar\n",
    "\n"
   ]
  },
  {
   "cell_type": "code",
   "execution_count": 4,
   "metadata": {},
   "outputs": [],
   "source": [
    "df.drop(columns=['Heavy-Duty Power System', 'Notes', 'Drivetrain', 'Number of Passengers', 'PHEV Total Range', 'Engine Cylinder Count', 'Transmission Make', 'Transmission Type' ], axis=1, inplace=True)"
   ]
  },
  {
   "cell_type": "markdown",
   "metadata": {},
   "source": [
    "## II Exploración y tratamiento de Nulos\n",
    "\n"
   ]
  },
  {
   "cell_type": "markdown",
   "metadata": {},
   "source": [
    "### 1 Columna Category"
   ]
  },
  {
   "cell_type": "markdown",
   "metadata": {},
   "source": [
    "1.1) Revisamos los valores únicos en la columna"
   ]
  },
  {
   "cell_type": "code",
   "execution_count": 5,
   "metadata": {},
   "outputs": [
    {
     "data": {
      "text/plain": [
       "array(['Sedan/Wagon', 'SUV', 'Pickup', 'Van', 'Passenger Van/Shuttle Bus',\n",
       "       'Street Sweeper', 'Refuse', 'Vocational/Cab Chassis', 'Tractor',\n",
       "       'School Bus', 'Transit Bus', 'Step Van',\n",
       "       'TractorVocational/Cab Chassis', 'Vocational/Cab ChassisVan',\n",
       "       'Vocational/Cab ChassisTractor'], dtype=object)"
      ]
     },
     "execution_count": 5,
     "metadata": {},
     "output_type": "execute_result"
    }
   ],
   "source": [
    "df['Category'].unique()"
   ]
  },
  {
   "cell_type": "markdown",
   "metadata": {},
   "source": [
    "2.2) Nos quedaremos sólo con la categorìa de autos que son SUV o sedań, pues sólo estos autos pueden ser taxis.\n",
    "    \n",
    "- Refuse: Se refiere a vehículos de recolección de basura o residuos.\n",
    "\n",
    "- School Bus: Autobuses escolares utilizados para transportar estudiantes desde y hacia la escuela.\n",
    "\n",
    "- Street Sweeper: Vehículos de limpieza de calles equipados con cepillos y sistemas de aspiración para recoger la suciedad y los residuos de las calles.\n",
    "\n",
    "- Tractor: En este contexto, probablemente se refiera a tractores de carretera, que son camiones diseñados para remolcar semirremolques en el transporte de carga.\n",
    "\n",
    "- TractorVocational/Cab Chassis: Tractores  diseñados para tareas específicas, como la construcción o la entrega de mercancías.\n",
    "\n",
    "- Transit Bus: Autobuses utilizados para el transporte público en ciudades y áreas urbanas.\n",
    "\n",
    "- Vocational/Cab Chassis: Vehículos con un chasis de cabina que se pueden adaptar para usos específicos, como camiones de bomberos, ambulancias o vehículos de construcción.\n",
    "\n",
    "- Vocational/Cab ChassisTractor: Una combinación de chasis de cabina para aplicaciones vocacionales y tractores, probablemente indicando vehículos que pueden ser personalizados para tareas específicas y también utilizados para remolcar.\n",
    "\n",
    "- Passenger Van/Shuttle Bus: Furgonetas o minibuses utilizados para transportar pasajeros.\n",
    "\n",
    "- Van: Se refiere a furgonetas, que son vehículos utilizados para transportar mercancías o personas, pero generalmente más pequeños que los camiones o autobuses.\n",
    "\n",
    "- Pickup: Camionetas con una cabina para pasajeros y una zona de carga abierta en la parte trasera.\n",
    "\n",
    "- Step Van: Camión ligero o mediano con un cuerpo alto y cuadrado. Estos vehículos son comúnmente utilizados para la entrega de paquetes y correo, servicios de comida móvil (como camiones de comida), y por empresas de servicios como la limpieza y el mantenimiento.\n",
    "\n",
    "- Vocational/Cab ChassisVan: Esta categoría parece ser una combinación de términos y podría referirse a vehículos vocacionales (especializados para una tarea específica) que están basados en un chasis de cabina y tienen una configuración de tipo furgoneta."
   ]
  },
  {
   "cell_type": "code",
   "execution_count": 6,
   "metadata": {},
   "outputs": [],
   "source": [
    "categories_to_remove = [\n",
    "    'Refuse', 'School Bus', 'Street Sweeper', 'Tractor',\n",
    "    'TractorVocational/Cab Chassis', 'Transit Bus',\n",
    "    'Vocational/Cab Chassis', 'Vocational/Cab ChassisTractor',\n",
    "    'Passenger Van/Shuttle Bus', 'Van', 'Pickup', 'Step Van', 'Vocational/Cab ChassisVan'\n",
    "]\n",
    "\n",
    "df = df[~df['Category'].isin(categories_to_remove)]\n"
   ]
  },
  {
   "cell_type": "code",
   "execution_count": 7,
   "metadata": {},
   "outputs": [
    {
     "name": "stdout",
     "output_type": "stream",
     "text": [
      "<class 'pandas.core.frame.DataFrame'>\n",
      "Index: 505 entries, 0 to 593\n",
      "Data columns (total 14 columns):\n",
      " #   Column                              Non-Null Count  Dtype  \n",
      "---  ------                              --------------  -----  \n",
      " 0   Category                            505 non-null    object \n",
      " 1   Model                               505 non-null    object \n",
      " 2   Model Year                          505 non-null    float64\n",
      " 3   Manufacturer                        505 non-null    object \n",
      " 4   Fuel                                505 non-null    object \n",
      " 5   All-Electric Range                  216 non-null    float64\n",
      " 6   Alternative Fuel Economy City       137 non-null    float64\n",
      " 7   Alternative Fuel Economy Highway    137 non-null    float64\n",
      " 8   Alternative Fuel Economy Combined   228 non-null    float64\n",
      " 9   Conventional Fuel Economy City      370 non-null    float64\n",
      " 10  Conventional Fuel Economy Highway   370 non-null    float64\n",
      " 11  Conventional Fuel Economy Combined  370 non-null    float64\n",
      " 12  Engine Type                         500 non-null    object \n",
      " 13  Engine Size                         500 non-null    object \n",
      "dtypes: float64(8), object(6)\n",
      "memory usage: 59.2+ KB\n"
     ]
    }
   ],
   "source": [
    "df.info()"
   ]
  },
  {
   "cell_type": "markdown",
   "metadata": {},
   "source": [
    "### 2 All-Electric Range "
   ]
  },
  {
   "cell_type": "markdown",
   "metadata": {},
   "source": [
    "2.1) Abajo podemos ver que donde hay nulos es de un 100% en autos no eléctricos. Lo cual es esperable, pues la columna informa sobre el rango de autos eléctricos."
   ]
  },
  {
   "cell_type": "code",
   "execution_count": 8,
   "metadata": {},
   "outputs": [
    {
     "data": {
      "text/plain": [
       "Fuel\n",
       "Biodiesel (B20)            1.0\n",
       "Ethanol (E85)              1.0\n",
       "Hybrid Electric            1.0\n",
       "Hydrogen Fuel Cell         1.0\n",
       "Electric                   0.0\n",
       "Plug-in Hybrid Electric    0.0\n",
       "Name: All-Electric Range Null, dtype: float64"
      ]
     },
     "execution_count": 8,
     "metadata": {},
     "output_type": "execute_result"
    }
   ],
   "source": [
    "# Verificamos la relación entre 'All-Electric Range' y el tipo de combustible 'Fuel'\n",
    "\n",
    "df['All-Electric Range Null'] = df['All-Electric Range'].isnull()\n",
    "\n",
    "# Agrupando por tipo de combustible para ver la proporción de nulos en 'All-Electric Range' por cada tipo\n",
    "all_electric_range_nulos_por_fuel = df.groupby('Fuel')['All-Electric Range Null'].mean().sort_values(ascending=False)\n",
    "\n",
    "all_electric_range_nulos_por_fuel\n"
   ]
  },
  {
   "cell_type": "markdown",
   "metadata": {},
   "source": [
    "### 3 Alternative Fuel Economy City y Alternative Fuel Economy Highway"
   ]
  },
  {
   "cell_type": "markdown",
   "metadata": {},
   "source": [
    "3.1) Vemos que los autos eléctricos tienen 0% nulos. Esto es esperable en estas columnas, pues sólo tienen la información de los autos con combustible alternativo, por ello coinciden los nulos y no nulos exactamente en ambas columnas. No se puede imputar valores a los nulos, pues se perdería coherencia en el dataset. Eventualmente, y luego de realizar una matriz de correlaciòn y estadísticas descriptivas, estos valores pueden ser imputados a cero para el modelo."
   ]
  },
  {
   "cell_type": "code",
   "execution_count": 9,
   "metadata": {},
   "outputs": [
    {
     "name": "stderr",
     "output_type": "stream",
     "text": [
      "/tmp/ipykernel_14446/215138140.py:2: DeprecationWarning: DataFrameGroupBy.apply operated on the grouping columns. This behavior is deprecated, and in a future version of pandas the grouping columns will be excluded from the operation. Either pass `include_groups=False` to exclude the groupings or explicitly select the grouping columns after groupby to silence this warning.\n",
      "  nulos_alt_fuel_economy_por_fuel = df.groupby('Fuel').apply(lambda x: x[['Alternative Fuel Economy City', 'Alternative Fuel Economy Highway']].isnull().mean()).sort_values(by='Alternative Fuel Economy City', ascending=False)\n"
     ]
    },
    {
     "data": {
      "text/html": [
       "<div>\n",
       "<style scoped>\n",
       "    .dataframe tbody tr th:only-of-type {\n",
       "        vertical-align: middle;\n",
       "    }\n",
       "\n",
       "    .dataframe tbody tr th {\n",
       "        vertical-align: top;\n",
       "    }\n",
       "\n",
       "    .dataframe thead th {\n",
       "        text-align: right;\n",
       "    }\n",
       "</style>\n",
       "<table border=\"1\" class=\"dataframe\">\n",
       "  <thead>\n",
       "    <tr style=\"text-align: right;\">\n",
       "      <th></th>\n",
       "      <th>Alternative Fuel Economy City</th>\n",
       "      <th>Alternative Fuel Economy Highway</th>\n",
       "    </tr>\n",
       "    <tr>\n",
       "      <th>Fuel</th>\n",
       "      <th></th>\n",
       "      <th></th>\n",
       "    </tr>\n",
       "  </thead>\n",
       "  <tbody>\n",
       "    <tr>\n",
       "      <th>Biodiesel (B20)</th>\n",
       "      <td>1.0</td>\n",
       "      <td>1.0</td>\n",
       "    </tr>\n",
       "    <tr>\n",
       "      <th>Hybrid Electric</th>\n",
       "      <td>1.0</td>\n",
       "      <td>1.0</td>\n",
       "    </tr>\n",
       "    <tr>\n",
       "      <th>Plug-in Hybrid Electric</th>\n",
       "      <td>1.0</td>\n",
       "      <td>1.0</td>\n",
       "    </tr>\n",
       "    <tr>\n",
       "      <th>Electric</th>\n",
       "      <td>0.0</td>\n",
       "      <td>0.0</td>\n",
       "    </tr>\n",
       "    <tr>\n",
       "      <th>Ethanol (E85)</th>\n",
       "      <td>0.0</td>\n",
       "      <td>0.0</td>\n",
       "    </tr>\n",
       "    <tr>\n",
       "      <th>Hydrogen Fuel Cell</th>\n",
       "      <td>0.0</td>\n",
       "      <td>0.0</td>\n",
       "    </tr>\n",
       "  </tbody>\n",
       "</table>\n",
       "</div>"
      ],
      "text/plain": [
       "                         Alternative Fuel Economy City  \\\n",
       "Fuel                                                     \n",
       "Biodiesel (B20)                                    1.0   \n",
       "Hybrid Electric                                    1.0   \n",
       "Plug-in Hybrid Electric                            1.0   \n",
       "Electric                                           0.0   \n",
       "Ethanol (E85)                                      0.0   \n",
       "Hydrogen Fuel Cell                                 0.0   \n",
       "\n",
       "                         Alternative Fuel Economy Highway  \n",
       "Fuel                                                       \n",
       "Biodiesel (B20)                                       1.0  \n",
       "Hybrid Electric                                       1.0  \n",
       "Plug-in Hybrid Electric                               1.0  \n",
       "Electric                                              0.0  \n",
       "Ethanol (E85)                                         0.0  \n",
       "Hydrogen Fuel Cell                                    0.0  "
      ]
     },
     "execution_count": 9,
     "metadata": {},
     "output_type": "execute_result"
    }
   ],
   "source": [
    "# Analizando la relación entre los nulos en 'Alternative Fuel Economy City' y 'Alternative Fuel Economy Highway' por tipo de combustible\n",
    "nulos_alt_fuel_economy_por_fuel = df.groupby('Fuel').apply(lambda x: x[['Alternative Fuel Economy City', 'Alternative Fuel Economy Highway']].isnull().mean()).sort_values(by='Alternative Fuel Economy City', ascending=False)\n",
    "\n",
    "nulos_alt_fuel_economy_por_fuel\n"
   ]
  },
  {
   "cell_type": "code",
   "execution_count": 10,
   "metadata": {},
   "outputs": [
    {
     "data": {
      "text/plain": [
       "(368, 72.87128712871286)"
      ]
     },
     "execution_count": 10,
     "metadata": {},
     "output_type": "execute_result"
    }
   ],
   "source": [
    "#  Porcentaje de nulos en Alternative Fuel Economy City\n",
    "nulos = df['Alternative Fuel Economy City'].isnull().sum()\n",
    "porcentaje_nulos = (nulos / len(df)) * 100\n",
    "\n",
    "nulos, porcentaje_nulos"
   ]
  },
  {
   "cell_type": "code",
   "execution_count": 11,
   "metadata": {},
   "outputs": [
    {
     "data": {
      "text/plain": [
       "(368, 72.87128712871286)"
      ]
     },
     "execution_count": 11,
     "metadata": {},
     "output_type": "execute_result"
    }
   ],
   "source": [
    "#  Porcentaje de nulos en AAlternative Fuel Economy Highway\n",
    "nulos = df['Alternative Fuel Economy Highway'].isnull().sum()\n",
    "porcentaje_nulos = (nulos / len(df)) * 100\n",
    "\n",
    "nulos, porcentaje_nulos"
   ]
  },
  {
   "cell_type": "markdown",
   "metadata": {},
   "source": [
    "### 4 Columna Alternative Fuel Economy Combined"
   ]
  },
  {
   "cell_type": "markdown",
   "metadata": {},
   "source": [
    "Tenemos valores faltantes en esta columna que los podemos reemplazar por el promedio de las dos columnas anteriores. Sólo en las filas en que no tenga información."
   ]
  },
  {
   "cell_type": "code",
   "execution_count": 12,
   "metadata": {},
   "outputs": [],
   "source": [
    "# Calcular el promedio entre 'Alternative Fuel Economy City' y 'Alternative Fuel Economy Highway'\n",
    "df['Average City Highway'] = (df['Alternative Fuel Economy City'] + df['Alternative Fuel Economy Highway']) / 2\n",
    "\n",
    "# Reemplazar los valores nulos en 'Alternative Fuel Economy Combined' con el promedio calculado\n",
    "df['Alternative Fuel Economy Combined'] = df['Alternative Fuel Economy Combined'].fillna(df['Average City Highway'])\n",
    "\n",
    "# Eliminar la columna auxiliar 'Average City Highway'\n",
    "df.drop('Average City Highway', axis=1, inplace=True)\n"
   ]
  },
  {
   "cell_type": "markdown",
   "metadata": {},
   "source": [
    "### 5 Columnas: Conventional Fuel Economy City, Conventional Fuel Economy Highway y Conventional Fuel Economy Combined"
   ]
  },
  {
   "cell_type": "markdown",
   "metadata": {},
   "source": [
    "Vemos que tienen coincidencia en las filas donde tienen y no tienen datos. Esto es esperable, pues sólo nos brindan información de las filas que contemplan autos con combustible convencional. Por ahora, no imputamos valores, pues necesitamos realizar anàlisis estadísticos previos."
   ]
  },
  {
   "cell_type": "code",
   "execution_count": 13,
   "metadata": {},
   "outputs": [
    {
     "name": "stderr",
     "output_type": "stream",
     "text": [
      "/tmp/ipykernel_14446/2099282119.py:2: DeprecationWarning: DataFrameGroupBy.apply operated on the grouping columns. This behavior is deprecated, and in a future version of pandas the grouping columns will be excluded from the operation. Either pass `include_groups=False` to exclude the groupings or explicitly select the grouping columns after groupby to silence this warning.\n",
      "  nulos_conventional_fuel = df.groupby('Fuel').apply(lambda x: x[['Conventional Fuel Economy City', 'Conventional Fuel Economy Highway', 'Conventional Fuel Economy Combined']].isnull().mean()).sort_values(by='Conventional Fuel Economy City', ascending=False)\n"
     ]
    },
    {
     "data": {
      "text/html": [
       "<div>\n",
       "<style scoped>\n",
       "    .dataframe tbody tr th:only-of-type {\n",
       "        vertical-align: middle;\n",
       "    }\n",
       "\n",
       "    .dataframe tbody tr th {\n",
       "        vertical-align: top;\n",
       "    }\n",
       "\n",
       "    .dataframe thead th {\n",
       "        text-align: right;\n",
       "    }\n",
       "</style>\n",
       "<table border=\"1\" class=\"dataframe\">\n",
       "  <thead>\n",
       "    <tr style=\"text-align: right;\">\n",
       "      <th></th>\n",
       "      <th>Conventional Fuel Economy City</th>\n",
       "      <th>Conventional Fuel Economy Highway</th>\n",
       "      <th>Conventional Fuel Economy Combined</th>\n",
       "    </tr>\n",
       "    <tr>\n",
       "      <th>Fuel</th>\n",
       "      <th></th>\n",
       "      <th></th>\n",
       "      <th></th>\n",
       "    </tr>\n",
       "  </thead>\n",
       "  <tbody>\n",
       "    <tr>\n",
       "      <th>Electric</th>\n",
       "      <td>1.0</td>\n",
       "      <td>1.0</td>\n",
       "      <td>1.0</td>\n",
       "    </tr>\n",
       "    <tr>\n",
       "      <th>Hydrogen Fuel Cell</th>\n",
       "      <td>1.0</td>\n",
       "      <td>1.0</td>\n",
       "      <td>1.0</td>\n",
       "    </tr>\n",
       "    <tr>\n",
       "      <th>Biodiesel (B20)</th>\n",
       "      <td>0.0</td>\n",
       "      <td>0.0</td>\n",
       "      <td>0.0</td>\n",
       "    </tr>\n",
       "    <tr>\n",
       "      <th>Ethanol (E85)</th>\n",
       "      <td>0.0</td>\n",
       "      <td>0.0</td>\n",
       "      <td>0.0</td>\n",
       "    </tr>\n",
       "    <tr>\n",
       "      <th>Hybrid Electric</th>\n",
       "      <td>0.0</td>\n",
       "      <td>0.0</td>\n",
       "      <td>0.0</td>\n",
       "    </tr>\n",
       "    <tr>\n",
       "      <th>Plug-in Hybrid Electric</th>\n",
       "      <td>0.0</td>\n",
       "      <td>0.0</td>\n",
       "      <td>0.0</td>\n",
       "    </tr>\n",
       "  </tbody>\n",
       "</table>\n",
       "</div>"
      ],
      "text/plain": [
       "                         Conventional Fuel Economy City  \\\n",
       "Fuel                                                      \n",
       "Electric                                            1.0   \n",
       "Hydrogen Fuel Cell                                  1.0   \n",
       "Biodiesel (B20)                                     0.0   \n",
       "Ethanol (E85)                                       0.0   \n",
       "Hybrid Electric                                     0.0   \n",
       "Plug-in Hybrid Electric                             0.0   \n",
       "\n",
       "                         Conventional Fuel Economy Highway  \\\n",
       "Fuel                                                         \n",
       "Electric                                               1.0   \n",
       "Hydrogen Fuel Cell                                     1.0   \n",
       "Biodiesel (B20)                                        0.0   \n",
       "Ethanol (E85)                                          0.0   \n",
       "Hybrid Electric                                        0.0   \n",
       "Plug-in Hybrid Electric                                0.0   \n",
       "\n",
       "                         Conventional Fuel Economy Combined  \n",
       "Fuel                                                         \n",
       "Electric                                                1.0  \n",
       "Hydrogen Fuel Cell                                      1.0  \n",
       "Biodiesel (B20)                                         0.0  \n",
       "Ethanol (E85)                                           0.0  \n",
       "Hybrid Electric                                         0.0  \n",
       "Plug-in Hybrid Electric                                 0.0  "
      ]
     },
     "execution_count": 13,
     "metadata": {},
     "output_type": "execute_result"
    }
   ],
   "source": [
    "# Analizamos la relación entre los nulos en 'Alternative Fuel Economy City' y 'Alternative Fuel Economy Highway' por tipo de combustible\n",
    "nulos_conventional_fuel = df.groupby('Fuel').apply(lambda x: x[['Conventional Fuel Economy City', 'Conventional Fuel Economy Highway', 'Conventional Fuel Economy Combined']].isnull().mean()).sort_values(by='Conventional Fuel Economy City', ascending=False)\n",
    "nulos_conventional_fuel"
   ]
  },
  {
   "cell_type": "markdown",
   "metadata": {},
   "source": [
    "### 6 Columnas Engine Size y Engine Type"
   ]
  },
  {
   "cell_type": "markdown",
   "metadata": {},
   "source": [
    "6.1) Revisamos los valores únicos de la columna Engine Size"
   ]
  },
  {
   "cell_type": "code",
   "execution_count": 14,
   "metadata": {},
   "outputs": [
    {
     "data": {
      "text/plain": [
       "array(['3.5L', '2.0L', '3.0L', '175 kW electric motor',\n",
       "       '141 kW and 172 kW electric motor', '138kW electric motor',\n",
       "       '157kW electric motor', '80 kW and 150 kW electric motor', '4.0L',\n",
       "       '335 kW electric motor', '2.9L', '250 kW electric motor',\n",
       "       '190 and 230 kW electric motors', '150 kW electric motor', '3.9L',\n",
       "       '2.5L I4', '2.5L', '3.3L', '3.3L V6',\n",
       "       '198 kW electric motors (x2)', '258 kW electric motors (x2)',\n",
       "       '179  kW electric motors (X2)', '179  kW electric motor',\n",
       "       '198 kW electric motor', '216 kW electric motor', '1.5L', '1.6L',\n",
       "       '74 kW and 165 kW electric motors', '125 kW electric motor',\n",
       "       '168 kW electric motor', '120 kW electric motor', '5.7L', '3.6L',\n",
       "       '370kW and 459kW electric motors',\n",
       "       '198kW and 498kW electric motors',\n",
       "       '178kW and 433kW electric motors', '81 kW electric motor',\n",
       "       '245 kW electric motor', '135 and 255 kW electric motors',\n",
       "       '135 kW electric motor', '2.4L', '110 kW electric motor',\n",
       "       '160 kW electric motor', '150kW electric motors (X2)',\n",
       "       '170kW electric motor', '3.0L ', '175 and 320 kW electric motors',\n",
       "       '150 and 270 kW electric motors', '240 kW electric motor',\n",
       "       '280 kW electric motor', '170 and 335 kW electric motors',\n",
       "       '175 and 355 kW electric motors', '190 and 335 kW electric motors',\n",
       "       '162, 162, 163, 163 kW ', '98 kW and 195 kW electric motors',\n",
       "       '131kW and 190 kW electric motors', '192 kW electric motor',\n",
       "       '247 kW dual electric motors', '250 kW electric motors (X3)',\n",
       "       '243 and 248 kW electric motors', '230kW electric motors (X3)',\n",
       "       '91 and 200 kW electric motors', '133 and 179 kW electric motors',\n",
       "       '209 kW electric motor', '1.8L', '134 kW electric motor',\n",
       "       '80 and 150 kW electric motors', '150 kW electric motors (X2)',\n",
       "       '150kW electric motor', '135 kW', '125 kW',\n",
       "       '130 kW electric motor', '100 kW electric motor', nan,\n",
       "       '20 kW electric motor', '194 and 280 kW electric motors',\n",
       "       '210 and 250 kW electric motors', '131 and 190 kW electric motors',\n",
       "       '179 kW and 186 kW electric motor',\n",
       "       '149 kW and 276 kW electric motor',\n",
       "       '180 and 189 kW electric motor', '151 and 273 kW electric motors',\n",
       "       '69 and 201 kW electric motors'], dtype=object)"
      ]
     },
     "execution_count": 14,
     "metadata": {},
     "output_type": "execute_result"
    }
   ],
   "source": [
    "df['Engine Size'].unique()"
   ]
  },
  {
   "cell_type": "markdown",
   "metadata": {},
   "source": [
    "6.2) Para hacer más comprensible la informaciòn, en donde exista la expresión kw, el valor debe incluir sólo el número y la unidad kw"
   ]
  },
  {
   "cell_type": "code",
   "execution_count": 15,
   "metadata": {},
   "outputs": [
    {
     "name": "stdout",
     "output_type": "stream",
     "text": [
      "['3.5L' '2.0L' '3.0L' '175 kW' '141 kW' '138 kW' '157 kW' '80 kW' '4.0L'\n",
      " '335 kW' '2.9L' '250 kW' '190 and 230 kW' '150 kW' '3.9L' '2.5L I4'\n",
      " '2.5L' '3.3L' '3.3L V6' '198 kW' '258 kW' '179 kW' '216 kW' '1.5L' '1.6L'\n",
      " '74 kW' '125 kW' '168 kW' '120 kW' '5.7L' '3.6L' '370 kW' '178 kW'\n",
      " '81 kW' '245 kW' '135 and 255 kW' '135 kW' '2.4L' '110 kW' '160 kW'\n",
      " '170 kW' '3.0L ' '175 and 320 kW' '150 and 270 kW' '240 kW' '280 kW'\n",
      " '170 and 335 kW' '175 and 355 kW' '190 and 335 kW'\n",
      " '162, 162, 163, 163 kW' '98 kW' '131 kW' '192 kW' '247 kW'\n",
      " '243 and 248 kW' '230 kW' '91 and 200 kW' '133 and 179 kW' '209 kW'\n",
      " '1.8L' '134 kW' '80 and 150 kW' '130 kW' '100 kW' nan '20 kW'\n",
      " '194 and 280 kW' '210 and 250 kW' '131 and 190 kW' '149 kW'\n",
      " '180 and 189 kW' '151 and 273 kW' '69 and 201 kW']\n"
     ]
    }
   ],
   "source": [
    "# Usar expresiones regulares para extraer el número antes de 'kW' o 'kw' y luego agregar ' kW'\n",
    "df['Engine Size'] = df['Engine Size'].str.replace(r'(\\d+)\\s*[kK][wW].*', r'\\1 kW', regex=True)\n",
    "\n",
    "# Mostrar los valores únicos resultantes\n",
    "print(df['Engine Size'].unique())\n"
   ]
  },
  {
   "cell_type": "markdown",
   "metadata": {},
   "source": [
    "6.3) Revisamos los valores únicos de Engine Type"
   ]
  },
  {
   "cell_type": "code",
   "execution_count": 16,
   "metadata": {},
   "outputs": [
    {
     "data": {
      "text/plain": [
       "array(['SI', 'e-motor', 'CI', 'FC', nan], dtype=object)"
      ]
     },
     "execution_count": 16,
     "metadata": {},
     "output_type": "execute_result"
    }
   ],
   "source": [
    "df['Engine Type'].unique()"
   ]
  },
  {
   "cell_type": "markdown",
   "metadata": {},
   "source": [
    "Las categorías en la columna \"Engine Type\" representan diferentes tipos de tecnologías de motores utilizados en vehículos:\n",
    "\n",
    "- SI: Se refiere a \"Spark Ignition\" (Encendido por chispa). Los motores SI son motores de combustión interna que utilizan una chispa eléctrica para encender una mezcla de aire y combustible. Este tipo de motor es común en vehículos de gasolina.\n",
    "\n",
    "- e-motor: Se refiere a \"electric motor\" (Motor électrico).\n",
    "\n",
    "- CI: Se refiere a \"Compression Ignition\" (Encendido por compresión). Los motores CI son motores de combustión interna en los que el combustible se enciende debido a la alta temperatura generada por la compresión del aire en la cámara de combustión. Este tipo de motor es común en vehículos diésel.\n",
    "\n",
    "- FC: Se refiere a \"Fuel Cell\" (Celda de combustible). Los vehículos con celdas de combustible utilizan hidrógeno como fuente de energía para generar electricidad que alimenta un motor eléctrico. "
   ]
  },
  {
   "cell_type": "markdown",
   "metadata": {},
   "source": [
    "6.4) Reemplazamos los nombres para que sea más comprensible y manejable los datos"
   ]
  },
  {
   "cell_type": "code",
   "execution_count": 17,
   "metadata": {},
   "outputs": [
    {
     "name": "stdout",
     "output_type": "stream",
     "text": [
      "['Spark Ignition' 'Electric Motor' 'Compression Ignition' 'Fuel Cell' nan]\n"
     ]
    }
   ],
   "source": [
    "# Reemplazar los nombres de las categorías en 'Engine Type'\n",
    "df['Engine Type'] = df['Engine Type'].replace({\n",
    "    'SI': 'Spark Ignition',\n",
    "    'e-motor': 'Electric Motor',\n",
    "    'CI': 'Compression Ignition',\n",
    "    'FC': 'Fuel Cell'\n",
    "})\n",
    "\n",
    "# Mostrar los valores únicos resultantes\n",
    "print(df['Engine Type'].unique())\n"
   ]
  },
  {
   "cell_type": "markdown",
   "metadata": {},
   "source": [
    "6.5) Dado que ambas columnas tienen pocos nulos (5 nulos cada una), procedemos a eliminarlos."
   ]
  },
  {
   "cell_type": "code",
   "execution_count": 18,
   "metadata": {},
   "outputs": [],
   "source": [
    "# Eliminar filas con valores nulos en 'Engine Type' y 'Engine Size'\n",
    "df = df.dropna(subset=['Engine Type', 'Engine Size'])\n"
   ]
  },
  {
   "cell_type": "code",
   "execution_count": 19,
   "metadata": {},
   "outputs": [],
   "source": [
    "df.drop('All-Electric Range Null', axis=1, inplace=True)"
   ]
  },
  {
   "cell_type": "markdown",
   "metadata": {},
   "source": [
    "## III Tratamiento outliers y duplicados"
   ]
  },
  {
   "cell_type": "markdown",
   "metadata": {},
   "source": [
    "### 1 Outliers"
   ]
  },
  {
   "cell_type": "markdown",
   "metadata": {},
   "source": [
    "1.1) Exploramos todos los outliers del dataset."
   ]
  },
  {
   "cell_type": "markdown",
   "metadata": {},
   "source": [
    "\n",
    "### Observaciones Generales\n",
    "\n",
    "- **Presencia de Outliers en Múltiples Categorías:** Hay outliers en todas las categorías de economía de combustible, lo que indica que algunos vehículos tienen valores de economía de combustible significativamente diferentes (tanto más bajos como más altos) que la mayoría.\n",
    "No osbtante, esto no es necesariamente un error en los datos, pues estos outliers son consistentes ya que los mismos vehículos parecen ser outliers en más de una categoría ( los mismos índices aparecen en ciudad, carretera y combinado), lo que sugiere que ciertos vehículos tienen características de rendimiento de combustible únicas en comparación con el conjunto general. Especialmente autos más nuevos.\n",
    "\n",
    "### Sobre Economía de Combustible en Combustibles Alternativos y Convencionales\n",
    "\n",
    "- **Rango de Economía de Combustible:** Los valores atípicos en la economía de combustible alternativo para ciudad y carretera son relativamente bajos (11.0 y 15.0, respectivamente), lo que podría indicar vehículos alternativos con menor eficiencia en ciertas condiciones o errores de datos. Por otro lado, si bien los valores atípicos en la economía de combustible convencional varían más ampliamente y tienden a ser más altos, especialmente en la economía de combustible en carretera, hay un valor de 231.0 lo que parece ser un error al ingresar el dato al dataset.\n",
    "\n",
    "\n",
    "\n"
   ]
  },
  {
   "cell_type": "code",
   "execution_count": 20,
   "metadata": {},
   "outputs": [
    {
     "name": "stdout",
     "output_type": "stream",
     "text": [
      "Outliers in Alternative Fuel Economy City:\n",
      "91     11.0\n",
      "391    11.0\n",
      "Name: Alternative Fuel Economy City, dtype: float64\n",
      "\n",
      "Outliers in Alternative Fuel Economy Highway:\n",
      "91     15.0\n",
      "391    15.0\n",
      "Name: Alternative Fuel Economy Highway, dtype: float64\n",
      "\n",
      "Outliers in Conventional Fuel Economy City:\n",
      "132    48.0\n",
      "135    55.0\n",
      "136    51.0\n",
      "137    49.0\n",
      "138    53.0\n",
      "139    54.0\n",
      "143    58.0\n",
      "144    52.0\n",
      "152    50.0\n",
      "168    51.0\n",
      "170    53.0\n",
      "171    48.0\n",
      "284    51.0\n",
      "286    53.0\n",
      "293    54.0\n",
      "294    51.0\n",
      "295    58.0\n",
      "296    55.0\n",
      "434    48.0\n",
      "439    55.0\n",
      "440    51.0\n",
      "441    49.0\n",
      "442    53.0\n",
      "443    54.0\n",
      "444    59.0\n",
      "446    52.0\n",
      "453    50.0\n",
      "464    51.0\n",
      "466    53.0\n",
      "467    48.0\n",
      "566    51.0\n",
      "568    53.0\n",
      "574    54.0\n",
      "575    51.0\n",
      "576    58.0\n",
      "Name: Conventional Fuel Economy City, dtype: float64\n",
      "\n",
      "Outliers in Conventional Fuel Economy Highway:\n",
      "132     47.0\n",
      "135     49.0\n",
      "137     52.0\n",
      "138     56.0\n",
      "139     57.0\n",
      "143     60.0\n",
      "144     51.0\n",
      "151     51.0\n",
      "152     54.0\n",
      "168     46.0\n",
      "170     48.0\n",
      "284     53.0\n",
      "285     47.0\n",
      "286     52.0\n",
      "293     50.0\n",
      "294     47.0\n",
      "295     53.0\n",
      "296     53.0\n",
      "342    231.0\n",
      "434     48.0\n",
      "439     49.0\n",
      "441     52.0\n",
      "442     56.0\n",
      "443     56.0\n",
      "444     60.0\n",
      "446     51.0\n",
      "452     51.0\n",
      "453     54.0\n",
      "464     46.0\n",
      "466     48.0\n",
      "566     53.0\n",
      "567     47.0\n",
      "568     52.0\n",
      "574     50.0\n",
      "575     47.0\n",
      "576     53.0\n",
      "Name: Conventional Fuel Economy Highway, dtype: float64\n",
      "\n",
      "Outliers in Conventional Fuel Economy Combined:\n",
      "132    47.0\n",
      "135    52.0\n",
      "136    48.0\n",
      "137    50.0\n",
      "138    54.0\n",
      "139    55.0\n",
      "143    59.0\n",
      "144    52.0\n",
      "151    47.0\n",
      "152    52.0\n",
      "168    49.0\n",
      "170    50.0\n",
      "171    46.0\n",
      "284    52.0\n",
      "285    46.0\n",
      "286    52.0\n",
      "293    52.0\n",
      "294    49.0\n",
      "295    56.0\n",
      "296    54.0\n",
      "434    48.0\n",
      "439    52.0\n",
      "440    48.0\n",
      "441    50.0\n",
      "442    54.0\n",
      "443    55.0\n",
      "444    59.0\n",
      "446    52.0\n",
      "452    47.0\n",
      "453    52.0\n",
      "464    49.0\n",
      "466    50.0\n",
      "467    46.0\n",
      "566    52.0\n",
      "567    46.0\n",
      "568    52.0\n",
      "574    52.0\n",
      "575    49.0\n",
      "576    56.0\n",
      "Name: Conventional Fuel Economy Combined, dtype: float64\n",
      "\n"
     ]
    }
   ],
   "source": [
    "# Seleccionamos solo las columnas numéricas\n",
    "df_numeric = df.select_dtypes(include=['float64', 'int64'])\n",
    "\n",
    "# Calcula el rango intercuartílico (IQR) para cada columna numérica\n",
    "Q1 = df_numeric.quantile(0.25)\n",
    "Q3 = df_numeric.quantile(0.75)\n",
    "IQR = Q3 - Q1\n",
    "\n",
    "# Identifica los outliers\n",
    "outliers = ((df_numeric < (Q1 - 1.5 * IQR)) | (df_numeric > (Q3 + 1.5 * IQR)))\n",
    "\n",
    "# Muestra los outliers\n",
    "for column in outliers.columns:\n",
    "    if outliers[column].any():\n",
    "        print(f\"Outliers in {column}:\")\n",
    "        print(df_numeric[column][outliers[column]])\n",
    "        print()\n"
   ]
  },
  {
   "cell_type": "markdown",
   "metadata": {},
   "source": [
    "Elimiinamos los outliers presentes en Alternative Fuel Economy City, Alternative Fuel Economy Highway y el outlier presente en la fila 342 en la columna Conventional Fuel Economy Highway"
   ]
  },
  {
   "cell_type": "code",
   "execution_count": 21,
   "metadata": {},
   "outputs": [],
   "source": [
    "# Eliminar outliers en 'Alternative Fuel Economy City' con valores de 11.0\n",
    "df = df[~((df['Alternative Fuel Economy City'] == 11.0) & \n",
    "          (df['Alternative Fuel Economy Highway'] == 15.0))]\n",
    "\n",
    "# Eliminar el outlier de 231.0 en 'Conventional Fuel Economy Highway'\n",
    "df = df[df['Conventional Fuel Economy Highway'] != 231.0]\n"
   ]
  },
  {
   "cell_type": "markdown",
   "metadata": {},
   "source": [
    "### 2 Revisamos las filas duplicadas"
   ]
  },
  {
   "cell_type": "markdown",
   "metadata": {},
   "source": [
    "2.1) Identificamos las filas duplicadas"
   ]
  },
  {
   "cell_type": "code",
   "execution_count": 22,
   "metadata": {},
   "outputs": [
    {
     "name": "stdout",
     "output_type": "stream",
     "text": [
      "Número de filas duplicadas: 1\n",
      "        Category         Model  Model Year   Manufacturer             Fuel  \\\n",
      "506  Sedan/Wagon  E 450 4MATIC      2021.0  Mercedes-Benz  Hybrid Electric   \n",
      "\n",
      "     All-Electric Range  Alternative Fuel Economy City  \\\n",
      "506                 NaN                            NaN   \n",
      "\n",
      "     Alternative Fuel Economy Highway  Alternative Fuel Economy Combined  \\\n",
      "506                               NaN                                NaN   \n",
      "\n",
      "     Conventional Fuel Economy City  Conventional Fuel Economy Highway  \\\n",
      "506                            23.0                               30.0   \n",
      "\n",
      "     Conventional Fuel Economy Combined     Engine Type Engine Size  \n",
      "506                                26.0  Spark Ignition        3.0L  \n"
     ]
    }
   ],
   "source": [
    "# Buscamos duplicados en todo el DataFrame\n",
    "duplicates = df.duplicated()\n",
    "\n",
    "# Contamos el número de duplicados\n",
    "number_of_duplicates = duplicates.sum()\n",
    "\n",
    "# Muestra el número de duplicados\n",
    "print(f'Número de filas duplicadas: {number_of_duplicates}')\n",
    "\n",
    "# SVemos las filas duplicadas:\n",
    "duplicated_rows = df[duplicates]\n",
    "print(duplicated_rows)\n",
    "\n",
    "\n"
   ]
  },
  {
   "cell_type": "markdown",
   "metadata": {},
   "source": [
    "2.2) Eliminamos la fila duplicada"
   ]
  },
  {
   "cell_type": "code",
   "execution_count": 23,
   "metadata": {},
   "outputs": [],
   "source": [
    "# Eliminar duplicados, manteniendo la primera ocurrencia\n",
    "df = df.drop_duplicates()\n",
    "\n"
   ]
  },
  {
   "cell_type": "markdown",
   "metadata": {},
   "source": [
    "## IV Estadísticas descriptivas"
   ]
  },
  {
   "cell_type": "markdown",
   "metadata": {},
   "source": [
    "\n",
    "### Model Year\n",
    "- **Rango de Años:** Los vehículos en el dataset son bastante recientes, con años de modelo que van desde 2021 hasta 2022.\n",
    "- **Promedio:** El año modelo promedio es aproximadamente 2021.56.\n",
    "- **Desviación Estándar:** La desviación estándar es muy baja (0.497), lo que sugiere que casi todos los vehículos son del año 2021 o 2022, con muy poca variación.\n",
    "\n",
    "### All-Electric Range (Rango Todo Eléctrico)\n",
    "- **Rango de Valores:** El rango todo eléctrico varía significativamente, desde 8 hasta 520 millas. Esto es explicable si se incluyen aquellos autos que son hibridos, pues  el vehículo puede recorrer sólo 8 millas(por ejemplo)sólo con el motor eléctrico sin recurrir al motor de combustión.\n",
    "- **Promedio y Mediana:** El rango promedio es de aproximadamente 166 millas, pero la mediana es mucho mayor (201.5 millas), lo que indica una distribución sesgada hacia vehículos con menor rango eléctrico y unos pocos vehículos con rangos muy altos que elevan el promedio.\n",
    "- **Desviación Estándar:** Una desviación estándar alta (134.3) indica una gran variabilidad en el rango eléctrico entre los vehículos.\n",
    "\n",
    "### Alternative Fuel Economy (Economía de Combustible Alternativo) - Ciudad, Carretera, Combinado\n",
    "- **Rango de Valores:** La economía de combustible alternativo varía desde un mínimo de 59 (ciudad) y 54 (carretera) hasta un máximo de 150 (ciudad) y 133 (carretera), lo que sugiere una amplia gama de eficiencia entre los vehículos.\n",
    "- **Promedio:** Los valores promedio indican una alta eficiencia en ciudad (101.72) comparado con carretera (92.31), lo cual es común en vehículos eléctricos y alternativos debido a la regeneración de energía durante el frenado.\n",
    "- **Desviación Estándar:** Las desviaciones estándar muestran una variabilidad moderada en la economía de combustible alternativo, especialmente en la ciudad.\n",
    "\n",
    "### Conventional Fuel Economy (Economía de Combustible Convencional) - Ciudad, Carretera, Combinado\n",
    "- **Rango de Valores:** La economía de combustible convencional varía desde un mínimo de 13 (ciudad) hasta un máximo de 59 (combinado), indicando una amplia gama de eficiencia entre vehículos convencionales.\n",
    "- **Promedio:** Los valores promedio de economía de combustible convencional son significativamente más bajos que los de combustible alternativo, lo cual es esperado, con 26.99 (ciudad), 30.57 (carretera), y 28.29 (combinado).\n",
    "- **Desviación Estándar:** Hay una variabilidad notable en la economía de combustible convencional, especialmente en la ciudad, lo que sugiere una diversidad significativa en la eficiencia de combustible entre los vehículos convencionales.\n",
    "\n"
   ]
  },
  {
   "cell_type": "code",
   "execution_count": 24,
   "metadata": {},
   "outputs": [
    {
     "data": {
      "text/html": [
       "<div>\n",
       "<style scoped>\n",
       "    .dataframe tbody tr th:only-of-type {\n",
       "        vertical-align: middle;\n",
       "    }\n",
       "\n",
       "    .dataframe tbody tr th {\n",
       "        vertical-align: top;\n",
       "    }\n",
       "\n",
       "    .dataframe thead th {\n",
       "        text-align: right;\n",
       "    }\n",
       "</style>\n",
       "<table border=\"1\" class=\"dataframe\">\n",
       "  <thead>\n",
       "    <tr style=\"text-align: right;\">\n",
       "      <th></th>\n",
       "      <th>Model Year</th>\n",
       "      <th>All-Electric Range</th>\n",
       "      <th>Alternative Fuel Economy City</th>\n",
       "      <th>Alternative Fuel Economy Highway</th>\n",
       "      <th>Alternative Fuel Economy Combined</th>\n",
       "      <th>Conventional Fuel Economy City</th>\n",
       "      <th>Conventional Fuel Economy Highway</th>\n",
       "      <th>Conventional Fuel Economy Combined</th>\n",
       "    </tr>\n",
       "  </thead>\n",
       "  <tbody>\n",
       "    <tr>\n",
       "      <th>count</th>\n",
       "      <td>493.000000</td>\n",
       "      <td>208.000000</td>\n",
       "      <td>130.000000</td>\n",
       "      <td>130.000000</td>\n",
       "      <td>218.000000</td>\n",
       "      <td>363.000000</td>\n",
       "      <td>363.000000</td>\n",
       "      <td>363.000000</td>\n",
       "    </tr>\n",
       "    <tr>\n",
       "      <th>mean</th>\n",
       "      <td>2021.555781</td>\n",
       "      <td>165.557692</td>\n",
       "      <td>101.723077</td>\n",
       "      <td>92.315385</td>\n",
       "      <td>84.188073</td>\n",
       "      <td>26.991736</td>\n",
       "      <td>30.575758</td>\n",
       "      <td>28.294766</td>\n",
       "    </tr>\n",
       "    <tr>\n",
       "      <th>std</th>\n",
       "      <td>0.497383</td>\n",
       "      <td>134.300034</td>\n",
       "      <td>22.477557</td>\n",
       "      <td>16.976972</td>\n",
       "      <td>25.114786</td>\n",
       "      <td>11.264153</td>\n",
       "      <td>8.767826</td>\n",
       "      <td>10.148001</td>\n",
       "    </tr>\n",
       "    <tr>\n",
       "      <th>min</th>\n",
       "      <td>2021.000000</td>\n",
       "      <td>8.000000</td>\n",
       "      <td>59.000000</td>\n",
       "      <td>54.000000</td>\n",
       "      <td>42.000000</td>\n",
       "      <td>13.000000</td>\n",
       "      <td>18.000000</td>\n",
       "      <td>15.000000</td>\n",
       "    </tr>\n",
       "    <tr>\n",
       "      <th>25%</th>\n",
       "      <td>2021.000000</td>\n",
       "      <td>22.000000</td>\n",
       "      <td>79.000000</td>\n",
       "      <td>80.000000</td>\n",
       "      <td>64.000000</td>\n",
       "      <td>20.000000</td>\n",
       "      <td>25.000000</td>\n",
       "      <td>22.000000</td>\n",
       "    </tr>\n",
       "    <tr>\n",
       "      <th>50%</th>\n",
       "      <td>2022.000000</td>\n",
       "      <td>201.500000</td>\n",
       "      <td>103.500000</td>\n",
       "      <td>93.000000</td>\n",
       "      <td>80.000000</td>\n",
       "      <td>22.000000</td>\n",
       "      <td>28.000000</td>\n",
       "      <td>25.000000</td>\n",
       "    </tr>\n",
       "    <tr>\n",
       "      <th>75%</th>\n",
       "      <td>2022.000000</td>\n",
       "      <td>260.500000</td>\n",
       "      <td>118.750000</td>\n",
       "      <td>102.000000</td>\n",
       "      <td>105.000000</td>\n",
       "      <td>31.000000</td>\n",
       "      <td>33.000000</td>\n",
       "      <td>31.000000</td>\n",
       "    </tr>\n",
       "    <tr>\n",
       "      <th>max</th>\n",
       "      <td>2022.000000</td>\n",
       "      <td>520.000000</td>\n",
       "      <td>150.000000</td>\n",
       "      <td>133.000000</td>\n",
       "      <td>142.000000</td>\n",
       "      <td>59.000000</td>\n",
       "      <td>60.000000</td>\n",
       "      <td>59.000000</td>\n",
       "    </tr>\n",
       "  </tbody>\n",
       "</table>\n",
       "</div>"
      ],
      "text/plain": [
       "        Model Year  All-Electric Range  Alternative Fuel Economy City  \\\n",
       "count   493.000000          208.000000                     130.000000   \n",
       "mean   2021.555781          165.557692                     101.723077   \n",
       "std       0.497383          134.300034                      22.477557   \n",
       "min    2021.000000            8.000000                      59.000000   \n",
       "25%    2021.000000           22.000000                      79.000000   \n",
       "50%    2022.000000          201.500000                     103.500000   \n",
       "75%    2022.000000          260.500000                     118.750000   \n",
       "max    2022.000000          520.000000                     150.000000   \n",
       "\n",
       "       Alternative Fuel Economy Highway  Alternative Fuel Economy Combined  \\\n",
       "count                        130.000000                         218.000000   \n",
       "mean                          92.315385                          84.188073   \n",
       "std                           16.976972                          25.114786   \n",
       "min                           54.000000                          42.000000   \n",
       "25%                           80.000000                          64.000000   \n",
       "50%                           93.000000                          80.000000   \n",
       "75%                          102.000000                         105.000000   \n",
       "max                          133.000000                         142.000000   \n",
       "\n",
       "       Conventional Fuel Economy City  Conventional Fuel Economy Highway  \\\n",
       "count                      363.000000                         363.000000   \n",
       "mean                        26.991736                          30.575758   \n",
       "std                         11.264153                           8.767826   \n",
       "min                         13.000000                          18.000000   \n",
       "25%                         20.000000                          25.000000   \n",
       "50%                         22.000000                          28.000000   \n",
       "75%                         31.000000                          33.000000   \n",
       "max                         59.000000                          60.000000   \n",
       "\n",
       "       Conventional Fuel Economy Combined  \n",
       "count                          363.000000  \n",
       "mean                            28.294766  \n",
       "std                             10.148001  \n",
       "min                             15.000000  \n",
       "25%                             22.000000  \n",
       "50%                             25.000000  \n",
       "75%                             31.000000  \n",
       "max                             59.000000  "
      ]
     },
     "execution_count": 24,
     "metadata": {},
     "output_type": "execute_result"
    }
   ],
   "source": [
    "df.describe()"
   ]
  },
  {
   "cell_type": "markdown",
   "metadata": {},
   "source": [
    "Queremos revisar las estadísticas descriptivas de All-Electric Range, filtrando sólo por autos 100% eléctricos y dejando fuera a los híbirdos. Para ello primero revisamos cuáles son los valores para autos exclusivamente eléctricos."
   ]
  },
  {
   "cell_type": "code",
   "execution_count": 25,
   "metadata": {},
   "outputs": [
    {
     "name": "stdout",
     "output_type": "stream",
     "text": [
      "Unique Engine Types: ['Spark Ignition' 'Electric Motor' 'Compression Ignition' 'Fuel Cell']\n",
      "Unique Fuel Types: ['Hybrid Electric' 'Plug-in Hybrid Electric' 'Electric' 'Biodiesel (B20)'\n",
      " 'Hydrogen Fuel Cell']\n"
     ]
    }
   ],
   "source": [
    "# Ver valores únicos en la columna 'Engine Type'\n",
    "unique_engine_types = df['Engine Type'].unique()\n",
    "print(\"Unique Engine Types:\", unique_engine_types)\n",
    "\n",
    "# Ver valores únicos en la columna 'Fuel'\n",
    "unique_fuels = df['Fuel'].unique()\n",
    "print(\"Unique Fuel Types:\", unique_fuels)\n"
   ]
  },
  {
   "cell_type": "markdown",
   "metadata": {},
   "source": [
    "Ahora, las estadísticas descriptivas de la columna All-Electric Range, sólo para autos de motor 100% eléctrico:\n",
    "\n",
    "- Count (Conteo): Hay 120 vehículos eléctricos puros en el dataset. Esta es la cantidad total de registros para los cuales se dispone de datos de rango eléctrico.\n",
    "\n",
    "- Mean (Promedio): El rango promedio de todos los vehículos eléctricos puros es de aproximadamente 267.54 millas. Esto indica que, en promedio, estos vehículos pueden recorrer esta distancia sin necesidad de recargar su batería.\n",
    "\n",
    "- Std (Desviación Estándar): Std (Desviación Estándar): La desviación estándar es de aproximadamente 79.64 millas. Esta es una medida de la variabilidad o dispersión de los rangos eléctricos alrededor del promedio. Un valor más alto indica una mayor variabilidad en el rango que pueden recorrer los vehículos eléctricos puros.\n",
    "\n",
    "-  Min (Mínimo): El rango mínimo en el dataset es de 59 millas. Esto significa que el vehículo eléctrico puro con el menor rango en tu dataset puede recorrer 59 millas con una sola carga completa.\n",
    "\n",
    "- Max (Máximo): El rango máximo en el dataset es de 520 millas. Este es el mayor rango de autonomía registrado para un vehículo eléctrico puro, lo que indica el potencial máximo de distancia que puede recorrer un vehículo eléctrico sin recargar."
   ]
  },
  {
   "cell_type": "code",
   "execution_count": 26,
   "metadata": {},
   "outputs": [
    {
     "name": "stdout",
     "output_type": "stream",
     "text": [
      "count    120.000000\n",
      "mean     267.541667\n",
      "std       79.639724\n",
      "min       59.000000\n",
      "25%      222.000000\n",
      "50%      253.500000\n",
      "75%      310.250000\n",
      "max      520.000000\n",
      "Name: All-Electric Range, dtype: float64\n"
     ]
    }
   ],
   "source": [
    "# Filtrar por vehículos eléctricos puros\n",
    "electric_vehicles = df[(df['Fuel'] == 'Electric') & (df['Engine Type'] == 'Electric Motor')]\n",
    "\n",
    "# Revisar las estadísticas descriptivas para la columna 'All-Electric Range' de los vehículos eléctricos\n",
    "electric_vehicles_stats = electric_vehicles['All-Electric Range'].describe()\n",
    "\n",
    "print(electric_vehicles_stats)\n"
   ]
  },
  {
   "cell_type": "code",
   "execution_count": 30,
   "metadata": {},
   "outputs": [
    {
     "name": "stdout",
     "output_type": "stream",
     "text": [
      "<class 'pandas.core.frame.DataFrame'>\n",
      "RangeIndex: 493 entries, 0 to 492\n",
      "Data columns (total 14 columns):\n",
      " #   Column                              Non-Null Count  Dtype  \n",
      "---  ------                              --------------  -----  \n",
      " 0   Category                            493 non-null    object \n",
      " 1   Model                               493 non-null    object \n",
      " 2   Model Year                          493 non-null    float64\n",
      " 3   Manufacturer                        493 non-null    object \n",
      " 4   Fuel                                493 non-null    object \n",
      " 5   All-Electric Range                  208 non-null    float64\n",
      " 6   Alternative Fuel Economy City       130 non-null    float64\n",
      " 7   Alternative Fuel Economy Highway    130 non-null    float64\n",
      " 8   Alternative Fuel Economy Combined   218 non-null    float64\n",
      " 9   Conventional Fuel Economy City      363 non-null    float64\n",
      " 10  Conventional Fuel Economy Highway   363 non-null    float64\n",
      " 11  Conventional Fuel Economy Combined  363 non-null    float64\n",
      " 12  Engine Type                         493 non-null    object \n",
      " 13  Engine Size                         493 non-null    object \n",
      "dtypes: float64(8), object(6)\n",
      "memory usage: 54.0+ KB\n"
     ]
    }
   ],
   "source": [
    "df.info()"
   ]
  },
  {
   "cell_type": "markdown",
   "metadata": {},
   "source": [
    "## V Guardar DataSet"
   ]
  },
  {
   "cell_type": "code",
   "execution_count": 27,
   "metadata": {},
   "outputs": [],
   "source": [
    "# Restablecer el índice del DataFrame\n",
    "df.reset_index(drop=True, inplace=True)"
   ]
  },
  {
   "cell_type": "code",
   "execution_count": 28,
   "metadata": {},
   "outputs": [],
   "source": [
    "# Guardar el DataFrame en un archivo CSV\n",
    "df.to_csv('Clean_Alternative_Fuel_Vehicles_US.csv', index=False)"
   ]
  },
  {
   "cell_type": "code",
   "execution_count": 29,
   "metadata": {},
   "outputs": [],
   "source": [
    "# Guardar en parquet\n",
    "#  df.to_parquet('Clean_Alternative_Fuel_Vehicles_US.parquet')\n"
   ]
  }
 ],
 "metadata": {
  "kernelspec": {
   "display_name": "Henry Final",
   "language": "python",
   "name": "python3"
  },
  "language_info": {
   "codemirror_mode": {
    "name": "ipython",
    "version": 3
   },
   "file_extension": ".py",
   "mimetype": "text/x-python",
   "name": "python",
   "nbconvert_exporter": "python",
   "pygments_lexer": "ipython3",
   "version": "3.10.12"
  }
 },
 "nbformat": 4,
 "nbformat_minor": 2
}
