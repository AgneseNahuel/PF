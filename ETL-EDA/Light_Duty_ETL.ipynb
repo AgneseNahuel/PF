{
 "cells": [
  {
   "cell_type": "code",
   "execution_count": 1,
   "metadata": {},
   "outputs": [],
   "source": [
    "import pandas as pd\n",
    "import matplotlib.pyplot as plt\n",
    "import seaborn as sns\n",
    "import re"
   ]
  },
  {
   "cell_type": "code",
   "execution_count": 2,
   "metadata": {},
   "outputs": [
    {
     "name": "stdout",
     "output_type": "stream",
     "text": [
      "   Vehicle ID  Fuel ID  Fuel Configuration ID  Manufacturer ID  Category ID  \\\n",
      "0       13044       45                    9.0              365           27   \n",
      "1       12854       45                    9.0              377           27   \n",
      "2       12842       45                    9.0              377           27   \n",
      "3       12783       45                    9.0              377           27   \n",
      "4       12782       45                    9.0              377           27   \n",
      "\n",
      "                Model  Model Year  Alternative Fuel Economy City  \\\n",
      "0                 NSX        2022                            NaN   \n",
      "1                 A3         2022                            NaN   \n",
      "2          A3 quattro        2022                            NaN   \n",
      "3  A4 allroad quattro        2022                            NaN   \n",
      "4          A4 quattro        2022                            NaN   \n",
      "\n",
      "   Alternative Fuel Economy Highway  Alternative Fuel Economy Combined  ...  \\\n",
      "0                               NaN                                NaN  ...   \n",
      "1                               NaN                                NaN  ...   \n",
      "2                               NaN                                NaN  ...   \n",
      "3                               NaN                                NaN  ...   \n",
      "4                               NaN                                NaN  ...   \n",
      "\n",
      "               Manufacturer URL     Category  Fuel Code             Fuel  \\\n",
      "0         http://www.acura.com/  Sedan/Wagon       HYBR  Hybrid Electric   \n",
      "1  http://progress.audiusa.com/  Sedan/Wagon       HYBR  Hybrid Electric   \n",
      "2  http://progress.audiusa.com/  Sedan/Wagon       HYBR  Hybrid Electric   \n",
      "3  http://progress.audiusa.com/  Sedan/Wagon       HYBR  Hybrid Electric   \n",
      "4  http://progress.audiusa.com/  Sedan/Wagon       HYBR  Hybrid Electric   \n",
      "\n",
      "  Fuel Configuration Name Electric-Only Range  PHEV Total Range PHEV Type  \\\n",
      "0         Hybrid Electric                 NaN               NaN       NaN   \n",
      "1         Hybrid Electric                 NaN               NaN       NaN   \n",
      "2         Hybrid Electric                 NaN               NaN       NaN   \n",
      "3         Hybrid Electric                 NaN               NaN       NaN   \n",
      "4         Hybrid Electric                 NaN               NaN       NaN   \n",
      "\n",
      "  Notes Drivetrain  \n",
      "0   NaN        AWD  \n",
      "1   NaN        FWD  \n",
      "2   NaN        AWD  \n",
      "3   NaN        AWD  \n",
      "4   NaN        AWD  \n",
      "\n",
      "[5 rows x 29 columns]\n"
     ]
    }
   ],
   "source": [
    "ruta_archivo1 = \"Datasets/Light Duty Vehicles.csv\"\n",
    "df = pd.read_csv(ruta_archivo1)\n",
    "\n",
    "print(df.head())"
   ]
  },
  {
   "cell_type": "code",
   "execution_count": 3,
   "metadata": {},
   "outputs": [
    {
     "name": "stdout",
     "output_type": "stream",
     "text": [
      "<class 'pandas.core.frame.DataFrame'>\n",
      "RangeIndex: 3008 entries, 0 to 3007\n",
      "Data columns (total 29 columns):\n",
      " #   Column                              Non-Null Count  Dtype  \n",
      "---  ------                              --------------  -----  \n",
      " 0   Vehicle ID                          3008 non-null   int64  \n",
      " 1   Fuel ID                             3008 non-null   int64  \n",
      " 2   Fuel Configuration ID               2973 non-null   float64\n",
      " 3   Manufacturer ID                     3008 non-null   int64  \n",
      " 4   Category ID                         3008 non-null   int64  \n",
      " 5   Model                               3008 non-null   object \n",
      " 6   Model Year                          3008 non-null   int64  \n",
      " 7   Alternative Fuel Economy City       1595 non-null   float64\n",
      " 8   Alternative Fuel Economy Highway    1505 non-null   float64\n",
      " 9   Alternative Fuel Economy Combined   467 non-null    float64\n",
      " 10  Conventional Fuel Economy City      2044 non-null   float64\n",
      " 11  Conventional Fuel Economy Highway   2046 non-null   float64\n",
      " 12  Conventional Fuel Economy Combined  763 non-null    float64\n",
      " 13  Transmission Type                   2922 non-null   object \n",
      " 14  Engine Type                         2211 non-null   object \n",
      " 15  Engine Size                         2874 non-null   object \n",
      " 16  Engine Cylinder Count               2443 non-null   float64\n",
      " 17  Engine Description                  1971 non-null   object \n",
      " 18  Manufacturer                        3008 non-null   object \n",
      " 19  Manufacturer URL                    2844 non-null   object \n",
      " 20  Category                            3008 non-null   object \n",
      " 21  Fuel Code                           3008 non-null   object \n",
      " 22  Fuel                                3008 non-null   object \n",
      " 23  Fuel Configuration Name             2973 non-null   object \n",
      " 24  Electric-Only Range                 374 non-null    float64\n",
      " 25  PHEV Total Range                    43 non-null     float64\n",
      " 26  PHEV Type                           176 non-null    object \n",
      " 27  Notes                               73 non-null     object \n",
      " 28  Drivetrain                          329 non-null    object \n",
      "dtypes: float64(10), int64(5), object(14)\n",
      "memory usage: 681.6+ KB\n"
     ]
    }
   ],
   "source": [
    "df.info()"
   ]
  },
  {
   "cell_type": "markdown",
   "metadata": {},
   "source": [
    "## I Eliminar columnas que no vamos a utilizar"
   ]
  },
  {
   "cell_type": "code",
   "execution_count": 4,
   "metadata": {},
   "outputs": [],
   "source": [
    "df.drop(columns=[ 'Notes', 'Drivetrain', 'PHEV Total Range', 'Engine Cylinder Count','Transmission Type', 'Engine Description','Fuel Configuration ID', 'Manufacturer URL', 'Fuel Code', 'PHEV Type' ], axis=1, inplace=True)"
   ]
  },
  {
   "cell_type": "markdown",
   "metadata": {},
   "source": [
    "## II Exploración y tratamiento de Nulos"
   ]
  },
  {
   "cell_type": "markdown",
   "metadata": {},
   "source": [
    "### 1 Columna Category"
   ]
  },
  {
   "cell_type": "code",
   "execution_count": 5,
   "metadata": {},
   "outputs": [],
   "source": [
    "# Filtramos el dataset para incluir solo \"Sedans\" y \"SUVs\"\n",
    "df = df[df['Category'].isin(['Sedan', 'SUV'])]\n",
    "\n"
   ]
  },
  {
   "cell_type": "markdown",
   "metadata": {},
   "source": [
    "### 2 Columnas Alternative Fuel Economy City, Alternative Fuel Economy Highway y Alternative Fuel Economy Combined"
   ]
  },
  {
   "cell_type": "markdown",
   "metadata": {},
   "source": [
    "Reemplazamos los nulos eficiencia cominada con el promedio entre eficiencia en ciudad y eficiencia en carretera."
   ]
  },
  {
   "cell_type": "code",
   "execution_count": 6,
   "metadata": {},
   "outputs": [
    {
     "name": "stdout",
     "output_type": "stream",
     "text": [
      "<class 'pandas.core.frame.DataFrame'>\n",
      "Index: 778 entries, 17 to 2946\n",
      "Data columns (total 19 columns):\n",
      " #   Column                              Non-Null Count  Dtype  \n",
      "---  ------                              --------------  -----  \n",
      " 0   Vehicle ID                          778 non-null    int64  \n",
      " 1   Fuel ID                             778 non-null    int64  \n",
      " 2   Manufacturer ID                     778 non-null    int64  \n",
      " 3   Category ID                         778 non-null    int64  \n",
      " 4   Model                               778 non-null    object \n",
      " 5   Model Year                          778 non-null    int64  \n",
      " 6   Alternative Fuel Economy City       456 non-null    float64\n",
      " 7   Alternative Fuel Economy Highway    437 non-null    float64\n",
      " 8   Alternative Fuel Economy Combined   155 non-null    float64\n",
      " 9   Conventional Fuel Economy City      602 non-null    float64\n",
      " 10  Conventional Fuel Economy Highway   603 non-null    float64\n",
      " 11  Conventional Fuel Economy Combined  256 non-null    float64\n",
      " 12  Engine Type                         584 non-null    object \n",
      " 13  Engine Size                         761 non-null    object \n",
      " 14  Manufacturer                        778 non-null    object \n",
      " 15  Category                            778 non-null    object \n",
      " 16  Fuel                                778 non-null    object \n",
      " 17  Fuel Configuration Name             757 non-null    object \n",
      " 18  Electric-Only Range                 130 non-null    float64\n",
      "dtypes: float64(7), int64(5), object(7)\n",
      "memory usage: 121.6+ KB\n"
     ]
    }
   ],
   "source": [
    "df.info()"
   ]
  },
  {
   "cell_type": "code",
   "execution_count": 7,
   "metadata": {},
   "outputs": [],
   "source": [
    "# Calcular el promedio entre 'Alternative Fuel Economy City' y 'Alternative Fuel Economy Highway'\n",
    "df['Average City Highway'] = (df['Alternative Fuel Economy City'] + df['Alternative Fuel Economy Highway']) / 2\n",
    "\n",
    "# Reemplazar los valores nulos en 'Alternative Fuel Economy Combined' con el promedio calculado\n",
    "df['Alternative Fuel Economy Combined'] = df['Alternative Fuel Economy Combined'].fillna(df['Average City Highway'])\n",
    "\n",
    "# Eliminar la columna auxiliar 'Average City Highway'\n",
    "df.drop('Average City Highway', axis=1, inplace=True)"
   ]
  },
  {
   "cell_type": "markdown",
   "metadata": {},
   "source": [
    "### 3 Columnas Conventional Fuel Economy City, Conventional Fuel Economy Highway y Alternative Fuel Economy Combined"
   ]
  },
  {
   "cell_type": "markdown",
   "metadata": {},
   "source": [
    "Reemplazamos los nulos eficiencia cominada con el promedio entre eficiencia en ciudad y eficiencia en carretera."
   ]
  },
  {
   "cell_type": "code",
   "execution_count": 8,
   "metadata": {},
   "outputs": [],
   "source": [
    "# Calcular el promedio entre 'Alternative Fuel Economy City' y 'Alternative Fuel Economy Highway'\n",
    "df['Average City Highway'] = (df['Conventional Fuel Economy City'] + df['Conventional Fuel Economy Highway']) / 2\n",
    "\n",
    "# Reemplazar los valores nulos en 'Alternative Fuel Economy Combined' con el promedio calculado\n",
    "df['Conventional Fuel Economy Combined'] = df['Alternative Fuel Economy Combined'].fillna(df['Average City Highway'])\n",
    "\n",
    "# Eliminar la columna auxiliar 'Average City Highway'\n",
    "df.drop('Average City Highway', axis=1, inplace=True)"
   ]
  },
  {
   "cell_type": "markdown",
   "metadata": {},
   "source": [
    "### 4 Columna Engine Size"
   ]
  },
  {
   "cell_type": "markdown",
   "metadata": {},
   "source": [
    "Modificamos el nombre de los datos para hacerlos más comprensibles"
   ]
  },
  {
   "cell_type": "code",
   "execution_count": 9,
   "metadata": {},
   "outputs": [
    {
     "data": {
      "text/plain": [
       "array(['141 kW and 172 kW electric motor', '138kW electric motor',\n",
       "       '157kW electric motor', '80 kW and 150 kW electric motor', '2.0L',\n",
       "       '3.0L', '335 kW electric motor', '190 and 230 kW electric motors',\n",
       "       '2.5L', '3.3L', '3.3L V6', '198 kW electric motors (x2)',\n",
       "       '258 kW electric motors (x2)', '179  kW electric motors (X2)',\n",
       "       '179  kW electric motor', '198 kW electric motor',\n",
       "       '216 kW electric motor', '74 kW and 165 kW electric motors',\n",
       "       '125 kW electric motor', '168 kW electric motor',\n",
       "       '150 kW electric motor', '120 kW electric motor', '1.6L', '5.7L',\n",
       "       '3.6L', '3.5L', '4.0L', '2.4L', '3.0L ', '162, 162, 163, 163 kW ',\n",
       "       '243 and 248 kW electric motors', '230kW electric motors (X3)',\n",
       "       '91 and 200 kW electric motors', '133 and 179 kW electric motors',\n",
       "       '209 kW electric motor', '80 and 150 kW electric motors',\n",
       "       '150 kW electric motors (X2)', '150kW electric motor', nan,\n",
       "       '180 and 189 kW electric motor', '151 and 273 kW electric motors',\n",
       "       '69 and 201 kW electric motors', '5.3L', '201 kW electric motor',\n",
       "       '2.0L ', '193 and 205 kW electric motor',\n",
       "       '205 and 375 kW electric motors', '158 and 203 kW electric motors',\n",
       "       '147 and 211 kW electric motors', '158 and 219 kW electric motors',\n",
       "       '95 kw electric motor', '147 kW electric motor', '2.0',\n",
       "       '193 kW and 193 kW electric motor', '193 kW electric motor (X2)',\n",
       "       '193, 205, 375 kW electric motor',\n",
       "       '193 kW and 375 kW electric motor', '5.3L ', '3.5L ', '3.7L',\n",
       "       '5.6L', '193/193 kW', '193/375 kW', '2.4', '3.6', '5.3', '5.4',\n",
       "       '3.5', '3.7', '100', '2.5', '3.0', '5.0', '2.04', '5.6', '5.7',\n",
       "       '6.2L', '5.4L', '5.0L', '115', '2.0 L', '6.0L', '115 kW e-motor',\n",
       "       '4.6L', '1.8L', '4.4L', '2.2L', '4.3L', '4.7L', '5.3 L', '6.0 L',\n",
       "       '4.7 L', '2.3 L', '5.6 L', '2.4 L', '3.3 L', '4.7', '2.3L',\n",
       "       '4.0 Liter'], dtype=object)"
      ]
     },
     "execution_count": 9,
     "metadata": {},
     "output_type": "execute_result"
    }
   ],
   "source": [
    "df['Engine Size'].unique()"
   ]
  },
  {
   "cell_type": "code",
   "execution_count": 10,
   "metadata": {},
   "outputs": [
    {
     "name": "stdout",
     "output_type": "stream",
     "text": [
      "['141 kW' '138 kW' '157 kW' '80 kW' '2.0L' '3.0L' '335 kW'\n",
      " '190 and 230 kW' '2.5L' '3.3L' '3.3L V6' '198 kW' '258 kW' '179 kW'\n",
      " '216 kW' '74 kW' '125 kW' '168 kW' '150 kW' '120 kW' '1.6L' '5.7L' '3.6L'\n",
      " '3.5L' '4.0L' '2.4L' '3.0L ' '162, 162, 163, 163 kW' '243 and 248 kW'\n",
      " '230 kW' '91 and 200 kW' '133 and 179 kW' '209 kW' '80 and 150 kW' nan\n",
      " '180 and 189 kW' '151 and 273 kW' '69 and 201 kW' '5.3L' '201 kW' '2.0L '\n",
      " '193 and 205 kW' '205 and 375 kW' '158 and 203 kW' '147 and 211 kW'\n",
      " '158 and 219 kW' '95 kW' '147 kW' '2.0' '193 kW' '193, 205, 375 kW'\n",
      " '5.3L ' '3.5L ' '3.7L' '5.6L' '193/193 kW' '193/375 kW' '2.4' '3.6' '5.3'\n",
      " '5.4' '3.5' '3.7' '100' '2.5' '3.0' '5.0' '2.04' '5.6' '5.7' '6.2L'\n",
      " '5.4L' '5.0L' '115' '2.0 L' '6.0L' '115 kW' '4.6L' '1.8L' '4.4L' '2.2L'\n",
      " '4.3L' '4.7L' '5.3 L' '6.0 L' '4.7 L' '2.3 L' '5.6 L' '2.4 L' '3.3 L'\n",
      " '4.7' '2.3L' '4.0 Liter']\n"
     ]
    }
   ],
   "source": [
    "# Usar expresiones regulares para extraer el número antes de 'kW' o 'kw' y luego agregar ' kW'\n",
    "df['Engine Size'] = df['Engine Size'].str.replace(r'(\\d+)\\s*[kK][wW].*', r'\\1 kW', regex=True)\n",
    "\n",
    "# Mostrar los valores únicos resultantes\n",
    "print(df['Engine Size'].unique())\n"
   ]
  },
  {
   "cell_type": "code",
   "execution_count": 11,
   "metadata": {},
   "outputs": [
    {
     "data": {
      "text/plain": [
       "array(['141 kW', '138 kW', '157 kW', '80 kW', '2.0L', '3.0L', '335 kW',\n",
       "       '190 and 230 kW', '2.5L', '3.3L', '3.3L V6L', '198 kW', '258 kW',\n",
       "       '179 kW', '216 kW', '74 kW', '125 kW', '168 kW', '150 kW',\n",
       "       '120 kW', '1.6L', '5.7L', '3.6L', '3.5L', '4.0L', '2.4L', '3.0L ',\n",
       "       '162, 162, 163, 163 kW', '243 and 248 kW', '230 kW',\n",
       "       '91 and 200 kW', '133 and 179 kW', '209 kW', '80 and 150 kW', nan,\n",
       "       '180 and 189 kW', '151 and 273 kW', '69 and 201 kW', '5.3L',\n",
       "       '201 kW', '2.0L ', '193 and 205 kW', '205 and 375 kW',\n",
       "       '158 and 203 kW', '147 and 211 kW', '158 and 219 kW', '95 kW',\n",
       "       '147 kW', '193 kW', '193, 205, 375 kW', '5.3L ', '3.5L ', '3.7L',\n",
       "       '5.6L', '193/193 kW', '193/375 kW', '5.4L', '100L', '5.0L',\n",
       "       '2.04L', '6.2L', '115L', '2.0 L', '6.0L', '115 kW', '4.6L', '1.8L',\n",
       "       '4.4L', '2.2L', '4.3L', '4.7L', '5.3 L', '6.0 L', '4.7 L', '2.3 L',\n",
       "       '5.6 L', '2.4 L', '3.3 L', '2.3L', '4.0 L'], dtype=object)"
      ]
     },
     "execution_count": 11,
     "metadata": {},
     "output_type": "execute_result"
    }
   ],
   "source": [
    "# Definimos una función para transformar los valores de la columna según las reglas proporcionadas\n",
    "def transform_engine_size(value):\n",
    "    if pd.isna(value):\n",
    "        return value  # Retornamos el valor NaN tal como está\n",
    "    if 'Liter' in value:  # Si el valor termina en 'Liter', reemplazamos 'Liter' por 'L'\n",
    "        return value.replace('Liter', 'L')\n",
    "    if value[-1].isdigit():  # Si el último carácter es un dígito, agregamos 'L' al final\n",
    "        return f'{value}L'\n",
    "    return value  # Retornamos el valor sin cambios si no cumple las condiciones anteriores\n",
    "\n",
    "# Aplicamos la función a la columna 'Engine Size' del dataset filtrado\n",
    "df['Engine Size'] = df['Engine Size'].apply(transform_engine_size)\n",
    "\n",
    "# Verificamos algunos valores únicos después de la transformación para confirmar los cambios\n",
    "df['Engine Size'].unique()\n"
   ]
  },
  {
   "cell_type": "markdown",
   "metadata": {},
   "source": [
    "### 5 Columna Engine Size"
   ]
  },
  {
   "cell_type": "markdown",
   "metadata": {},
   "source": [
    "Ordenamos en categorìas los datos para que puedan ser más manejables."
   ]
  },
  {
   "cell_type": "code",
   "execution_count": 12,
   "metadata": {},
   "outputs": [
    {
     "data": {
      "text/plain": [
       "array(['e-motor', 'SI', 'CI', 'FC', nan, 'Diesel', 'V6, Hybrid',\n",
       "       'GM Vortec engine', 'Vortec 5300', 'ECOTEC', 'SOHC', 'Hybrid',\n",
       "       '5-speed automatic', 'DOHC 32-valve', 'DOHC 24-valve with V V T-i',\n",
       "       '6.0 L Vortec V8', '4.7 L SOHC V8', 'Duratec I-4 Atkinson Cycle',\n",
       "       'Not Available', '2.4 L ECOTEC', 'DOHC 24-valve with VVT-i',\n",
       "       'Not available', 'V8',\n",
       "       '(DOHC) 24 valve with (VVT-i)  and  Electric permanent magne',\n",
       "       '(DOHC) 24 valve with (VVT-i)', 'Permanent-Magnet 50 kW DC'],\n",
       "      dtype=object)"
      ]
     },
     "execution_count": 12,
     "metadata": {},
     "output_type": "execute_result"
    }
   ],
   "source": [
    "df['Engine Type'].unique()"
   ]
  },
  {
   "cell_type": "code",
   "execution_count": 13,
   "metadata": {},
   "outputs": [
    {
     "data": {
      "text/plain": [
       "array(['e-motor', 'SI', 'CI', 'FC', nan, 'Other'], dtype=object)"
      ]
     },
     "execution_count": 13,
     "metadata": {},
     "output_type": "execute_result"
    }
   ],
   "source": [
    "# Definimos una función para clasificar los valores de 'Engine Type' en las categorías proporcionadas\n",
    "def classify_engine_type(value):\n",
    "    # Categorías según descripción\n",
    "    si_keywords = [\"Gasoline\", \"Petrol\", \"SI\"]\n",
    "    e_motor_keywords = [\"Electric\", \"e-motor\"]\n",
    "    ci_keywords = [\"Diesel\", \"CI\"]\n",
    "    fc_keywords = [\"Fuel Cell\", \"Hydrogen\", \"FC\"]\n",
    "    \n",
    "    # Clasificación\n",
    "    if pd.isna(value):\n",
    "        return value  # Mantenemos NaN sin cambios\n",
    "    value_lower = value.lower()  # Convertimos a minúsculas para una comparación insensible a mayúsculas\n",
    "    if any(keyword.lower() in value_lower for keyword in si_keywords):\n",
    "        return \"SI\"\n",
    "    elif any(keyword.lower() in value_lower for keyword in e_motor_keywords):\n",
    "        return \"e-motor\"\n",
    "    elif any(keyword.lower() in value_lower for keyword in ci_keywords):\n",
    "        return \"CI\"\n",
    "    elif any(keyword.lower() in value_lower for keyword in fc_keywords):\n",
    "        return \"FC\"\n",
    "    else:\n",
    "        return \"Other\"  # Para valores que no coinciden con ninguna categoría\n",
    "\n",
    "# Aplicamos la función de clasificación a la columna 'Engine Type'\n",
    "df['Engine Type'] = df['Engine Type'].apply(classify_engine_type)\n",
    "\n",
    "# Verificamos las categorías únicas resultantes\n",
    "df['Engine Type'].unique()\n"
   ]
  },
  {
   "cell_type": "code",
   "execution_count": 14,
   "metadata": {},
   "outputs": [
    {
     "name": "stdout",
     "output_type": "stream",
     "text": [
      "<class 'pandas.core.frame.DataFrame'>\n",
      "Index: 778 entries, 17 to 2946\n",
      "Data columns (total 19 columns):\n",
      " #   Column                              Non-Null Count  Dtype  \n",
      "---  ------                              --------------  -----  \n",
      " 0   Vehicle ID                          778 non-null    int64  \n",
      " 1   Fuel ID                             778 non-null    int64  \n",
      " 2   Manufacturer ID                     778 non-null    int64  \n",
      " 3   Category ID                         778 non-null    int64  \n",
      " 4   Model                               778 non-null    object \n",
      " 5   Model Year                          778 non-null    int64  \n",
      " 6   Alternative Fuel Economy City       456 non-null    float64\n",
      " 7   Alternative Fuel Economy Highway    437 non-null    float64\n",
      " 8   Alternative Fuel Economy Combined   489 non-null    float64\n",
      " 9   Conventional Fuel Economy City      602 non-null    float64\n",
      " 10  Conventional Fuel Economy Highway   603 non-null    float64\n",
      " 11  Conventional Fuel Economy Combined  741 non-null    float64\n",
      " 12  Engine Type                         584 non-null    object \n",
      " 13  Engine Size                         761 non-null    object \n",
      " 14  Manufacturer                        778 non-null    object \n",
      " 15  Category                            778 non-null    object \n",
      " 16  Fuel                                778 non-null    object \n",
      " 17  Fuel Configuration Name             757 non-null    object \n",
      " 18  Electric-Only Range                 130 non-null    float64\n",
      "dtypes: float64(7), int64(5), object(7)\n",
      "memory usage: 121.6+ KB\n"
     ]
    }
   ],
   "source": [
    "df.info()"
   ]
  },
  {
   "cell_type": "markdown",
   "metadata": {},
   "source": [
    "## III Outliers y duplicados"
   ]
  },
  {
   "cell_type": "markdown",
   "metadata": {},
   "source": [
    "- Outliers en Vehicle ID y Manufacturer ID: Los ID de vehículo y fabricante parecen ser identificadores numéricos. Los outliers aquí podrían indicar vehículos o fabricantes que son significativamente diferentes en términos de su identificación numérica, lo que podría no ser relevante desde una perspectiva analítica.\n",
    "\n",
    "- Outliers en Model Year:Los años de modelo que son considerablemente más antiguos que el resto podrían indicar vehículos que son significativamente diferentes en términos de tecnología, diseño, eficiencia de combustible, etc.\n",
    "\n",
    "- Outliers en Economía de Combustible Alternativo y Convencional (City, Highway, Combined):Los valores extremadamente altos o bajos en la economía de combustible (tanto para combustibles alternativos como convencionales) pueden indicar vehículos que son excepcionalmente eficientes o ineficientes. "
   ]
  },
  {
   "cell_type": "code",
   "execution_count": 15,
   "metadata": {},
   "outputs": [
    {
     "name": "stdout",
     "output_type": "stream",
     "text": [
      "Outliers in Vehicle ID:\n",
      "2378    968\n",
      "2379    946\n",
      "2382    960\n",
      "2388    980\n",
      "2389    966\n",
      "       ... \n",
      "2878     82\n",
      "2920    582\n",
      "2921     50\n",
      "2945    596\n",
      "2946    595\n",
      "Name: Vehicle ID, Length: 128, dtype: int64\n",
      "\n",
      "Outliers in Manufacturer ID:\n",
      "17      377\n",
      "18      377\n",
      "19      377\n",
      "20      377\n",
      "21      377\n",
      "       ... \n",
      "1951    391\n",
      "1960    383\n",
      "1979    377\n",
      "1980    377\n",
      "2241    391\n",
      "Name: Manufacturer ID, Length: 138, dtype: int64\n",
      "\n",
      "Outliers in Model Year:\n",
      "2945    1998\n",
      "2946    1998\n",
      "Name: Model Year, dtype: int64\n",
      "\n",
      "Outliers in Alternative Fuel Economy City:\n",
      "17       78.0\n",
      "20       76.0\n",
      "23      100.0\n",
      "24      100.0\n",
      "33      100.0\n",
      "        ...  \n",
      "1411     89.0\n",
      "1571     90.0\n",
      "1572     89.0\n",
      "1969     78.0\n",
      "2129     78.0\n",
      "Name: Alternative Fuel Economy City, Length: 79, dtype: float64\n",
      "\n",
      "Outliers in Alternative Fuel Economy Highway:\n",
      "17      77.0\n",
      "18      75.0\n",
      "19      64.0\n",
      "20      78.0\n",
      "21      78.0\n",
      "        ... \n",
      "1411    90.0\n",
      "1571    94.0\n",
      "1572    90.0\n",
      "1969    74.0\n",
      "2129    74.0\n",
      "Name: Alternative Fuel Economy Highway, Length: 91, dtype: float64\n",
      "\n",
      "Outliers in Alternative Fuel Economy Combined:\n",
      "145    120.0\n",
      "278    123.0\n",
      "279    122.0\n",
      "281    129.0\n",
      "447    120.0\n",
      "561    125.0\n",
      "563    129.0\n",
      "710    120.0\n",
      "799    121.0\n",
      "800    121.0\n",
      "932    120.0\n",
      "Name: Alternative Fuel Economy Combined, dtype: float64\n",
      "\n",
      "Outliers in Conventional Fuel Economy City:\n",
      "90      43.0\n",
      "134     40.0\n",
      "173     36.0\n",
      "174     39.0\n",
      "194     41.0\n",
      "195     38.0\n",
      "287     36.0\n",
      "297     41.0\n",
      "303     40.0\n",
      "390     43.0\n",
      "438     40.0\n",
      "469     39.0\n",
      "552     36.0\n",
      "569     36.0\n",
      "578     41.0\n",
      "582     40.0\n",
      "643     43.0\n",
      "703     40.0\n",
      "785     36.0\n",
      "807     36.0\n",
      "815     41.0\n",
      "1005    36.0\n",
      "1035    41.0\n",
      "1527    49.0\n",
      "2251    44.0\n",
      "Name: Conventional Fuel Economy City, dtype: float64\n",
      "\n",
      "Outliers in Conventional Fuel Economy Highway:\n",
      "342     231.0\n",
      "850      39.0\n",
      "917      39.0\n",
      "1147     39.0\n",
      "1527     51.0\n",
      "2251     40.0\n",
      "Name: Conventional Fuel Economy Highway, dtype: float64\n",
      "\n",
      "Outliers in Conventional Fuel Economy Combined:\n",
      "17      78.0\n",
      "18      73.0\n",
      "19      63.0\n",
      "20      77.0\n",
      "21      75.0\n",
      "        ... \n",
      "1411    89.5\n",
      "1571    92.0\n",
      "1572    89.5\n",
      "1969    76.0\n",
      "2129    76.0\n",
      "Name: Conventional Fuel Economy Combined, Length: 108, dtype: float64\n",
      "\n"
     ]
    }
   ],
   "source": [
    "# Seleccionamos solo las columnas numéricas\n",
    "df_numeric = df.select_dtypes(include=['float64', 'int64'])\n",
    "\n",
    "# Calcula el rango intercuartílico (IQR) para cada columna numérica\n",
    "Q1 = df_numeric.quantile(0.25)\n",
    "Q3 = df_numeric.quantile(0.75)\n",
    "IQR = Q3 - Q1\n",
    "\n",
    "# Identifica los outliers\n",
    "outliers = ((df_numeric < (Q1 - 1.5 * IQR)) | (df_numeric > (Q3 + 1.5 * IQR)))\n",
    "\n",
    "# Muestra los outliers\n",
    "for column in outliers.columns:\n",
    "    if outliers[column].any():\n",
    "        print(f\"Outliers in {column}:\")\n",
    "        print(df_numeric[column][outliers[column]])\n",
    "        print()\n"
   ]
  },
  {
   "cell_type": "code",
   "execution_count": 16,
   "metadata": {},
   "outputs": [],
   "source": [
    "# Eliminamos outlier\n",
    "df['Conventional Fuel Economy Highway'] = df['Conventional Fuel Economy Highway'].replace(231.0, pd.NA)\n",
    "\n"
   ]
  },
  {
   "cell_type": "markdown",
   "metadata": {},
   "source": [
    "No hay duplicados"
   ]
  },
  {
   "cell_type": "code",
   "execution_count": 17,
   "metadata": {},
   "outputs": [
    {
     "name": "stdout",
     "output_type": "stream",
     "text": [
      "Número de filas duplicadas: 0\n",
      "Empty DataFrame\n",
      "Columns: [Vehicle ID, Fuel ID, Manufacturer ID, Category ID, Model, Model Year, Alternative Fuel Economy City, Alternative Fuel Economy Highway, Alternative Fuel Economy Combined, Conventional Fuel Economy City, Conventional Fuel Economy Highway, Conventional Fuel Economy Combined, Engine Type, Engine Size, Manufacturer, Category, Fuel, Fuel Configuration Name, Electric-Only Range]\n",
      "Index: []\n"
     ]
    }
   ],
   "source": [
    "# Buscamos duplicados en todo el DataFrame\n",
    "duplicates = df.duplicated()\n",
    "\n",
    "# Contamos el número de duplicados\n",
    "number_of_duplicates = duplicates.sum()\n",
    "\n",
    "# Muestra el número de duplicados\n",
    "print(f'Número de filas duplicadas: {number_of_duplicates}')\n",
    "\n",
    "# SVemos las filas duplicadas:\n",
    "duplicated_rows = df[duplicates]\n",
    "print(duplicated_rows)"
   ]
  },
  {
   "cell_type": "code",
   "execution_count": 18,
   "metadata": {},
   "outputs": [
    {
     "name": "stdout",
     "output_type": "stream",
     "text": [
      "<class 'pandas.core.frame.DataFrame'>\n",
      "Index: 778 entries, 17 to 2946\n",
      "Data columns (total 19 columns):\n",
      " #   Column                              Non-Null Count  Dtype  \n",
      "---  ------                              --------------  -----  \n",
      " 0   Vehicle ID                          778 non-null    int64  \n",
      " 1   Fuel ID                             778 non-null    int64  \n",
      " 2   Manufacturer ID                     778 non-null    int64  \n",
      " 3   Category ID                         778 non-null    int64  \n",
      " 4   Model                               778 non-null    object \n",
      " 5   Model Year                          778 non-null    int64  \n",
      " 6   Alternative Fuel Economy City       456 non-null    float64\n",
      " 7   Alternative Fuel Economy Highway    437 non-null    float64\n",
      " 8   Alternative Fuel Economy Combined   489 non-null    float64\n",
      " 9   Conventional Fuel Economy City      602 non-null    float64\n",
      " 10  Conventional Fuel Economy Highway   602 non-null    object \n",
      " 11  Conventional Fuel Economy Combined  741 non-null    float64\n",
      " 12  Engine Type                         584 non-null    object \n",
      " 13  Engine Size                         761 non-null    object \n",
      " 14  Manufacturer                        778 non-null    object \n",
      " 15  Category                            778 non-null    object \n",
      " 16  Fuel                                778 non-null    object \n",
      " 17  Fuel Configuration Name             757 non-null    object \n",
      " 18  Electric-Only Range                 130 non-null    float64\n",
      "dtypes: float64(6), int64(5), object(8)\n",
      "memory usage: 121.6+ KB\n"
     ]
    }
   ],
   "source": [
    "df.info()"
   ]
  },
  {
   "cell_type": "markdown",
   "metadata": {},
   "source": [
    "### IV Guardar dataframe"
   ]
  },
  {
   "cell_type": "code",
   "execution_count": 19,
   "metadata": {},
   "outputs": [],
   "source": [
    "# Restablecer el índice del DataFrame\n",
    "df.reset_index(drop=True, inplace=True)"
   ]
  },
  {
   "cell_type": "code",
   "execution_count": 20,
   "metadata": {},
   "outputs": [],
   "source": [
    "# Guardar el DataFrame en un archivo CSV\n",
    "df.to_csv('Clean_Light_Duty.csv', index=False)"
   ]
  }
 ],
 "metadata": {
  "kernelspec": {
   "display_name": "Henry Final",
   "language": "python",
   "name": "python3"
  },
  "language_info": {
   "codemirror_mode": {
    "name": "ipython",
    "version": 3
   },
   "file_extension": ".py",
   "mimetype": "text/x-python",
   "name": "python",
   "nbconvert_exporter": "python",
   "pygments_lexer": "ipython3",
   "version": "3.10.12"
  }
 },
 "nbformat": 4,
 "nbformat_minor": 2
}
