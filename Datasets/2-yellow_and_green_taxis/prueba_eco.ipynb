{
 "cells": [
  {
   "cell_type": "code",
   "execution_count": 12,
   "metadata": {},
   "outputs": [
    {
     "data": {
      "text/plain": [
       "[{'Puesto 1': 'Fiat 500e',\n",
       "  'Precio (USD)': 32000,\n",
       "  'Combustible': 'Electric',\n",
       "  'CO2': 0,\n",
       "  'dB': 66,\n",
       "  'Millas con un tanque lleno': 140},\n",
       " {'Puesto 2': 'Chevrolet Bolt EV',\n",
       "  'Precio (USD)': 31000,\n",
       "  'Combustible': 'Electric',\n",
       "  'CO2': 0,\n",
       "  'dB': 67,\n",
       "  'Millas con un tanque lleno': 259},\n",
       " {'Puesto 3': 'Chevrolet Bolt EUV',\n",
       "  'Precio (USD)': 33000,\n",
       "  'Combustible': 'Electric',\n",
       "  'CO2': 0,\n",
       "  'dB': 68,\n",
       "  'Millas con un tanque lleno': 247}]"
      ]
     },
     "execution_count": 12,
     "metadata": {},
     "output_type": "execute_result"
    }
   ],
   "source": [
    "import pandas as pd\n",
    "from datetime import timedelta\n",
    "from pydantic import BaseModel\n",
    "import joblib\n",
    "\n",
    "\n",
    "def top_3_vehicles(max_price_usd: float):\n",
    "    # Cargamos el DataFrame desde el archivo parquet\n",
    "    vehicles_info = pd.read_csv('vehicles_info.csv')  \n",
    "\n",
    "    # Filtramos los vehículos por precio\n",
    "    filtered_vehicles = vehicles_info[vehicles_info['Price (USD)'] <= max_price_usd]\n",
    "\n",
    "    # Ordenamos los vehículos por CO2 en orden ascendente, luego por Sound Emission y finalmente por Range\n",
    "    sorted_vehicles = filtered_vehicles.sort_values(by=['CO2 Emission (g/mi)', 'Sound Emission (dB)', 'Range (mi)'], ascending=[True, True, False])\n",
    "\n",
    "    # Tomamos los tres primeros vehículos dentro del rango de precio\n",
    "    top_3_vehicles = sorted_vehicles.head(3)\n",
    "\n",
    "    # Creamos el formato de salida como una lista de diccionarios\n",
    "    output_format = []\n",
    "    for idx, row in enumerate(top_3_vehicles.itertuples(), start=1):\n",
    "        output_format.append({\n",
    "            f'Puesto {idx}': f'{row.Manufacturer} {row.Model}',\n",
    "            'Precio (USD)': row._9,\n",
    "            'Combustible': row.Fuel,\n",
    "            'CO2': row._7,\n",
    "            'dB': row._8,\n",
    "            'Millas con un tanque lleno': row._10,\n",
    "                \n",
    "        })\n",
    "\n",
    "    return output_format\n",
    "\n",
    "\n",
    "\n",
    "top_3_vehicles(35000)"
   ]
  }
 ],
 "metadata": {
  "kernelspec": {
   "display_name": "Python 3",
   "language": "python",
   "name": "python3"
  },
  "language_info": {
   "codemirror_mode": {
    "name": "ipython",
    "version": 3
   },
   "file_extension": ".py",
   "mimetype": "text/x-python",
   "name": "python",
   "nbconvert_exporter": "python",
   "pygments_lexer": "ipython3",
   "version": "3.11.6"
  }
 },
 "nbformat": 4,
 "nbformat_minor": 2
}
